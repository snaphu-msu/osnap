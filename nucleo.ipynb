{
 "cells": [
  {
   "cell_type": "code",
   "execution_count": 1,
   "metadata": {},
   "outputs": [],
   "source": [
    "from stir_to_mesa import *\n",
    "import os.path\n",
    "from skynet_tools.nucleo import *"
   ]
  },
  {
   "cell_type": "code",
   "execution_count": 7,
   "metadata": {},
   "outputs": [],
   "source": [
    "run_date = \"14may19\"\n",
    "base_path = f\"/mnt/research/SNAPhU/STIR/run_sukhbold/run_{run_date}\"\n",
    "alphas = np.array([1.25])\n",
    "masses = np.array([9.0, 9.25, 9.5, 9.75, 10.0, 10.25, 10.5, 10.75, 11.0, 11.25, 11.5, 11.75, \n",
    "                   12.0, 12.25, 12.5, 12.75, 13.0, 13.1, 13.2, 13.3, 13.4, 13.5, 13.6, 13.7, \n",
    "                   13.8, 13.9, 14.0, 14.1, 14.2, 14.3, 14.4, 14.5, 14.6, 14.7, 14.8, 14.9, \n",
    "                   15.0, 15.1, 15.2, 15.3, 15.4, 15.5, 15.6, 15.7, 15.8, 15.9, 16.0, 16.1, \n",
    "                   16.2, 16.3, 16.4, 16.5, 16.6, 16.7, 16.8, 16.9, 17.0, 17.1, 17.2, 17.3, \n",
    "                   17.4, 17.5, 17.6, 17.7, 17.8, 17.9, 18.0, 18.1, 18.2, 18.3, 18.4, 18.5, \n",
    "                   18.6, 18.7, 18.8, 18.9, 19.0, 19.1, 19.2, 19.3, 19.4, 19.5, 19.6, 19.7, \n",
    "                   19.8, 19.9, 20.0, 20.1, 20.2, 20.3, 20.4, 20.5, 20.6, 20.7, 20.8, 20.9, \n",
    "                   21.0, 21.1, 21.2, 21.3, 21.4, 21.5, 21.6, 21.7, 21.8, 21.9, 22.0, 22.1, \n",
    "                   22.2, 22.3, 22.4, 22.5, 22.6, 22.7, 22.8, 22.9, 23.0, 23.1, 23.2, 23.3, \n",
    "                   23.4, 23.5, 23.6, 23.7, 23.8, 23.9, 24.0, 24.1, 24.2, 24.3, 24.4, 24.5, \n",
    "                   24.6, 24.7, 24.8, 24.9, 25.0, 25.1, 25.2, 25.3, 25.4, 25.5, 25.6, 25.7, \n",
    "                   25.8, 25.9, 26.0, 26.1, 26.2, 26.3, 26.4, 26.5, 26.6, 26.7, 26.8, 26.9, \n",
    "                   27.0, 27.1, 27.2, 27.3, 27.4, 27.5, 27.6, 27.7, 27.8, 27.9, 28.0, 28.1, \n",
    "                   28.2, 28.3, 28.4, 28.5, 28.6, 28.7, 28.8, 28.9, 29.0, 29.1, 29.2, 29.3, \n",
    "                   29.4, 29.5, 29.6, 29.7, 29.8, 29.9, 30.0, 31.0, 32.0, 33.0, 35.0, 40.0, \n",
    "                   45.0, 50.0, 55.0, 60.0, 70.0, 80.0, 100.0, 120.0])"
   ]
  },
  {
   "cell_type": "code",
   "execution_count": 8,
   "metadata": {},
   "outputs": [],
   "source": [
    "model_paths = []\n",
    "model_names = []\n",
    "\n",
    "# Iterate over every alpha and mass value\n",
    "for alpha in alphas:\n",
    "    for mass in masses:\n",
    "\n",
    "        # Construct a path to the model's checkpoints folder\n",
    "        mass_string = f\"{mass}\" if mass < 31 else f\"{mass:.0f}\"\n",
    "        model_path = f\"{base_path}_a{alpha}/run_{mass_string}\"\n",
    "        if not(os.path.exists(model_path)):\n",
    "            print(f\"Path '{model_path}' does not exist. Skipping.\")\n",
    "            continue\n",
    "\n",
    "        # Construct the model name\n",
    "        model_name = f\"stir2_{run_date}_s{mass_string}_alpha{alpha}\"\n",
    "\n",
    "        # Add found models to lists\n",
    "        model_paths.append(model_path)\n",
    "        model_names.append(model_name)"
   ]
  },
  {
   "cell_type": "code",
   "execution_count": 16,
   "metadata": {},
   "outputs": [
    {
     "name": "stderr",
     "output_type": "stream",
     "text": [
      "yt : [WARNING  ] 2025-05-27 17:14:09,393 Extending phi dimension to 2PI + left edge.\n",
      "yt : [WARNING  ] 2025-05-27 17:14:09,394 Extending theta dimension to PI + left edge.\n",
      "yt : [INFO     ] 2025-05-27 17:14:09,413 Parameters: current_time              = 1.4500000677655056\n",
      "yt : [INFO     ] 2025-05-27 17:14:09,414 Parameters: domain_dimensions         = [240   1   1]\n",
      "yt : [INFO     ] 2025-05-27 17:14:09,414 Parameters: domain_left_edge          = [0. 0. 0.]\n",
      "yt : [INFO     ] 2025-05-27 17:14:09,414 Parameters: domain_right_edge         = [1.50000000e+09 3.14159265e+00 6.28318531e+00]\n",
      "yt : [INFO     ] 2025-05-27 17:14:09,414 Parameters: cosmological_simulation   = 0\n",
      "yt : [WARNING  ] 2025-05-27 17:14:09,472 Extending phi dimension to 2PI + left edge.\n",
      "yt : [WARNING  ] 2025-05-27 17:14:09,473 Extending theta dimension to PI + left edge.\n",
      "yt : [INFO     ] 2025-05-27 17:14:09,492 Parameters: current_time              = 1.4400004741972794\n",
      "yt : [INFO     ] 2025-05-27 17:14:09,492 Parameters: domain_dimensions         = [240   1   1]\n",
      "yt : [INFO     ] 2025-05-27 17:14:09,493 Parameters: domain_left_edge          = [0. 0. 0.]\n",
      "yt : [INFO     ] 2025-05-27 17:14:09,493 Parameters: domain_right_edge         = [1.50000000e+09 3.14159265e+00 6.28318531e+00]\n",
      "yt : [INFO     ] 2025-05-27 17:14:09,493 Parameters: cosmological_simulation   = 0\n"
     ]
    },
    {
     "name": "stdout",
     "output_type": "stream",
     "text": [
      "/mnt/research/SNAPhU/STIR/run_sukhbold/run_14may19_a1.25/run_12.0/stir2_14may19_s12.0_alpha1.25.dat 146\n",
      "Warning: nblockx != 15, is this right?\n",
      "lowest radii: 15000000.000000004\n",
      "highest radii: 1100000000.0000007\n",
      "146 0.0\n"
     ]
    },
    {
     "ename": "ValueError",
     "evalue": "One of the requested xi is out of bounds in dimension 1",
     "output_type": "error",
     "traceback": [
      "\u001b[0;31m---------------------------------------------------------------------------\u001b[0m",
      "\u001b[0;31mValueError\u001b[0m                                Traceback (most recent call last)",
      "Cell \u001b[0;32mIn[16], line 4\u001b[0m\n\u001b[1;32m      1\u001b[0m model_path \u001b[38;5;241m=\u001b[39m model_paths[\u001b[38;5;241m12\u001b[39m]\n\u001b[1;32m      2\u001b[0m model_name \u001b[38;5;241m=\u001b[39m model_names[\u001b[38;5;241m12\u001b[39m]\n\u001b[0;32m----> 4\u001b[0m \u001b[43mdo_trajectories\u001b[49m\u001b[43m(\u001b[49m\u001b[43mmodel_path\u001b[49m\u001b[43m,\u001b[49m\u001b[43m \u001b[49m\u001b[43mmodel_name\u001b[49m\u001b[43m)\u001b[49m\n",
      "File \u001b[0;32m/mnt/ffs24/home/jdelker/_main/projects/osnap/skynet_tools/nucleo.py:283\u001b[0m, in \u001b[0;36mdo_trajectories\u001b[0;34m(model_path, stir_model, plt_file)\u001b[0m\n\u001b[1;32m    281\u001b[0m \u001b[38;5;28mprint\u001b[39m(plt_cnt \u001b[38;5;241m+\u001b[39m \u001b[38;5;241m1\u001b[39m, mintemp)\n\u001b[1;32m    282\u001b[0m ds1 \u001b[38;5;241m=\u001b[39m yt\u001b[38;5;241m.\u001b[39mload(base \u001b[38;5;241m+\u001b[39m \u001b[38;5;28mstr\u001b[39m(plt_cnt)\u001b[38;5;241m.\u001b[39mzfill(\u001b[38;5;241m4\u001b[39m))\n\u001b[0;32m--> 283\u001b[0m lpoints \u001b[38;5;241m=\u001b[39m \u001b[43mnhelp\u001b[49m\u001b[38;5;241;43m.\u001b[39;49m\u001b[43mevolve_back_one_file_many\u001b[49m\u001b[43m(\u001b[49m\n\u001b[1;32m    284\u001b[0m \u001b[43m    \u001b[49m\u001b[43mds0\u001b[49m\u001b[43m,\u001b[49m\u001b[43m \u001b[49m\u001b[43mds1\u001b[49m\u001b[43m,\u001b[49m\u001b[43m \u001b[49m\u001b[43mpoints\u001b[49m\u001b[43m[\u001b[49m\u001b[38;5;241;43m-\u001b[39;49m\u001b[38;5;241;43m1\u001b[39;49m\u001b[43m]\u001b[49m\u001b[43m,\u001b[49m\u001b[43m \u001b[49m\u001b[43mnsub\u001b[49m\u001b[43m,\u001b[49m\u001b[43m \u001b[49m\u001b[43mnblockx\u001b[49m\u001b[43m,\u001b[49m\u001b[43m \u001b[49m\u001b[43mblocksize\u001b[49m\u001b[43m,\u001b[49m\u001b[43m \u001b[49m\u001b[43mNSEtemp\u001b[49m\n\u001b[1;32m    285\u001b[0m \u001b[43m\u001b[49m\u001b[43m)\u001b[49m\n\u001b[1;32m    286\u001b[0m mintemp \u001b[38;5;241m=\u001b[39m np\u001b[38;5;241m.\u001b[39mmin(lpoints\u001b[38;5;241m.\u001b[39mT[\u001b[38;5;241m4\u001b[39m])\n\u001b[1;32m    287\u001b[0m \u001b[38;5;28;01mif\u001b[39;00m mintemp \u001b[38;5;241m>\u001b[39m NSEtemp:\n",
      "File \u001b[0;32m/mnt/ffs24/home/jdelker/_main/projects/osnap/skynet_tools/nucleo_helpers.py:136\u001b[0m, in \u001b[0;36mevolve_back_one_file_many\u001b[0;34m(dsstart, dsend, starting_points, nsub, nblockx, blocksize, NSEtemp)\u001b[0m\n\u001b[1;32m    133\u001b[0m \u001b[38;5;66;03m#check for rho,t,ye\u001b[39;00m\n\u001b[1;32m    134\u001b[0m \u001b[38;5;28;01mif\u001b[39;00m starting_point[\u001b[38;5;241m4\u001b[39m]\u001b[38;5;241m==\u001b[39m\u001b[38;5;241m0.0\u001b[39m:\n\u001b[1;32m    135\u001b[0m     \u001b[38;5;66;03m#print(starting_point[:4],x,y,z)\u001b[39;00m\n\u001b[0;32m--> 136\u001b[0m     starting_point[\u001b[38;5;241m4\u001b[39m] \u001b[38;5;241m=\u001b[39m \u001b[43mrgi\u001b[49m\u001b[43m[\u001b[49m\u001b[38;5;124;43m'\u001b[39;49m\u001b[38;5;124;43mtemp\u001b[39;49m\u001b[38;5;124;43m'\u001b[39;49m\u001b[43m]\u001b[49m\u001b[43m(\u001b[49m\u001b[43mstarting_point\u001b[49m\u001b[43m[\u001b[49m\u001b[43m:\u001b[49m\u001b[38;5;241;43m2\u001b[39;49m\u001b[43m]\u001b[49m\u001b[43m)\u001b[49m\u001b[38;5;241m.\u001b[39mitem()\n\u001b[1;32m    137\u001b[0m     starting_point[\u001b[38;5;241m5\u001b[39m] \u001b[38;5;241m=\u001b[39m rgi[\u001b[38;5;124m'\u001b[39m\u001b[38;5;124mdens\u001b[39m\u001b[38;5;124m'\u001b[39m](starting_point[:\u001b[38;5;241m2\u001b[39m])\u001b[38;5;241m.\u001b[39mitem()\n\u001b[1;32m    138\u001b[0m     starting_point[\u001b[38;5;241m6\u001b[39m] \u001b[38;5;241m=\u001b[39m rgi[\u001b[38;5;124m'\u001b[39m\u001b[38;5;124mye\u001b[39m\u001b[38;5;124m'\u001b[39m](starting_point[:\u001b[38;5;241m2\u001b[39m])\u001b[38;5;241m.\u001b[39mitem()\n",
      "File \u001b[0;32m~/.conda/envs/osnap/lib/python3.13/site-packages/scipy/interpolate/_rgi.py:405\u001b[0m, in \u001b[0;36mRegularGridInterpolator.__call__\u001b[0;34m(self, xi, method, nu)\u001b[0m\n\u001b[1;32m    399\u001b[0m \u001b[38;5;28;01mif\u001b[39;00m nu \u001b[38;5;129;01mis\u001b[39;00m \u001b[38;5;129;01mnot\u001b[39;00m \u001b[38;5;28;01mNone\u001b[39;00m \u001b[38;5;129;01mand\u001b[39;00m method \u001b[38;5;129;01mnot\u001b[39;00m \u001b[38;5;129;01min\u001b[39;00m \u001b[38;5;28mself\u001b[39m\u001b[38;5;241m.\u001b[39m_SPLINE_METHODS_ndbspl:\n\u001b[1;32m    400\u001b[0m     \u001b[38;5;28;01mraise\u001b[39;00m \u001b[38;5;167;01mValueError\u001b[39;00m(\n\u001b[1;32m    401\u001b[0m         \u001b[38;5;124mf\u001b[39m\u001b[38;5;124m\"\u001b[39m\u001b[38;5;124mCan only compute derivatives for methods \u001b[39m\u001b[38;5;124m\"\u001b[39m\n\u001b[1;32m    402\u001b[0m         \u001b[38;5;124mf\u001b[39m\u001b[38;5;124m\"\u001b[39m\u001b[38;5;132;01m{\u001b[39;00m\u001b[38;5;28mself\u001b[39m\u001b[38;5;241m.\u001b[39m_SPLINE_METHODS_ndbspl\u001b[38;5;132;01m}\u001b[39;00m\u001b[38;5;124m, got \u001b[39m\u001b[38;5;132;01m{\u001b[39;00mmethod\u001b[38;5;250m \u001b[39m\u001b[38;5;132;01m=}\u001b[39;00m\u001b[38;5;124m.\u001b[39m\u001b[38;5;124m\"\u001b[39m\n\u001b[1;32m    403\u001b[0m     )\n\u001b[0;32m--> 405\u001b[0m xi, xi_shape, ndim, nans, out_of_bounds \u001b[38;5;241m=\u001b[39m \u001b[38;5;28;43mself\u001b[39;49m\u001b[38;5;241;43m.\u001b[39;49m\u001b[43m_prepare_xi\u001b[49m\u001b[43m(\u001b[49m\u001b[43mxi\u001b[49m\u001b[43m)\u001b[49m\n\u001b[1;32m    407\u001b[0m \u001b[38;5;28;01mif\u001b[39;00m method \u001b[38;5;241m==\u001b[39m \u001b[38;5;124m\"\u001b[39m\u001b[38;5;124mlinear\u001b[39m\u001b[38;5;124m\"\u001b[39m:\n\u001b[1;32m    408\u001b[0m     indices, norm_distances \u001b[38;5;241m=\u001b[39m \u001b[38;5;28mself\u001b[39m\u001b[38;5;241m.\u001b[39m_find_indices(xi\u001b[38;5;241m.\u001b[39mT)\n",
      "File \u001b[0;32m~/.conda/envs/osnap/lib/python3.13/site-packages/scipy/interpolate/_rgi.py:462\u001b[0m, in \u001b[0;36mRegularGridInterpolator._prepare_xi\u001b[0;34m(self, xi)\u001b[0m\n\u001b[1;32m    459\u001b[0m     \u001b[38;5;28;01mfor\u001b[39;00m i, p \u001b[38;5;129;01min\u001b[39;00m \u001b[38;5;28menumerate\u001b[39m(xi\u001b[38;5;241m.\u001b[39mT):\n\u001b[1;32m    460\u001b[0m         \u001b[38;5;28;01mif\u001b[39;00m \u001b[38;5;129;01mnot\u001b[39;00m np\u001b[38;5;241m.\u001b[39mlogical_and(np\u001b[38;5;241m.\u001b[39mall(\u001b[38;5;28mself\u001b[39m\u001b[38;5;241m.\u001b[39mgrid[i][\u001b[38;5;241m0\u001b[39m] \u001b[38;5;241m<\u001b[39m\u001b[38;5;241m=\u001b[39m p),\n\u001b[1;32m    461\u001b[0m                               np\u001b[38;5;241m.\u001b[39mall(p \u001b[38;5;241m<\u001b[39m\u001b[38;5;241m=\u001b[39m \u001b[38;5;28mself\u001b[39m\u001b[38;5;241m.\u001b[39mgrid[i][\u001b[38;5;241m-\u001b[39m\u001b[38;5;241m1\u001b[39m])):\n\u001b[0;32m--> 462\u001b[0m             \u001b[38;5;28;01mraise\u001b[39;00m \u001b[38;5;167;01mValueError\u001b[39;00m(\u001b[38;5;124m\"\u001b[39m\u001b[38;5;124mOne of the requested xi is out of bounds \u001b[39m\u001b[38;5;124m\"\u001b[39m\n\u001b[1;32m    463\u001b[0m                              \u001b[38;5;124m\"\u001b[39m\u001b[38;5;124min dimension \u001b[39m\u001b[38;5;132;01m%d\u001b[39;00m\u001b[38;5;124m\"\u001b[39m \u001b[38;5;241m%\u001b[39m i)\n\u001b[1;32m    464\u001b[0m     out_of_bounds \u001b[38;5;241m=\u001b[39m \u001b[38;5;28;01mNone\u001b[39;00m\n\u001b[1;32m    465\u001b[0m \u001b[38;5;28;01melse\u001b[39;00m:\n",
      "\u001b[0;31mValueError\u001b[0m: One of the requested xi is out of bounds in dimension 1"
     ]
    }
   ],
   "source": [
    "model_path = model_paths[12]\n",
    "model_name = model_names[12]\n",
    "\n",
    "do_trajectories(model_path, model_name)"
   ]
  },
  {
   "cell_type": "code",
   "execution_count": null,
   "metadata": {},
   "outputs": [],
   "source": []
  }
 ],
 "metadata": {
  "kernelspec": {
   "display_name": "Python 3",
   "language": "python",
   "name": "python3"
  },
  "language_info": {
   "codemirror_mode": {
    "name": "ipython",
    "version": 3
   },
   "file_extension": ".py",
   "mimetype": "text/x-python",
   "name": "python",
   "nbconvert_exporter": "python",
   "pygments_lexer": "ipython3",
   "version": "3.13.3"
  }
 },
 "nbformat": 4,
 "nbformat_minor": 2
}
