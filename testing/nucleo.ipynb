{
 "cells": [
  {
   "cell_type": "code",
   "execution_count": null,
   "metadata": {},
   "outputs": [
    {
     "ename": "ModuleNotFoundError",
     "evalue": "No module named 'osnap'",
     "output_type": "error",
     "traceback": [
      "\u001b[31m---------------------------------------------------------------------------\u001b[39m",
      "\u001b[31mModuleNotFoundError\u001b[39m                       Traceback (most recent call last)",
      "\u001b[36mCell\u001b[39m\u001b[36m \u001b[39m\u001b[32mIn[1]\u001b[39m\u001b[32m, line 1\u001b[39m\n\u001b[32m----> \u001b[39m\u001b[32m1\u001b[39m \u001b[38;5;28;01mfrom\u001b[39;00m\u001b[38;5;250m \u001b[39m\u001b[34;01mosnap\u001b[39;00m\u001b[38;5;250m \u001b[39m\u001b[38;5;28;01mimport\u001b[39;00m *\n\u001b[32m      2\u001b[39m \u001b[38;5;28;01mimport\u001b[39;00m\u001b[38;5;250m \u001b[39m\u001b[34;01mos\u001b[39;00m\u001b[34;01m.\u001b[39;00m\u001b[34;01mpath\u001b[39;00m\n\u001b[32m      3\u001b[39m \u001b[38;5;28;01mimport\u001b[39;00m\u001b[38;5;250m \u001b[39m\u001b[34;01mflashbang\u001b[39;00m\u001b[38;5;250m \u001b[39m\u001b[38;5;28;01mas\u001b[39;00m\u001b[38;5;250m \u001b[39m\u001b[34;01mfb\u001b[39;00m\n",
      "\u001b[31mModuleNotFoundError\u001b[39m: No module named 'osnap'"
     ]
    }
   ],
   "source": [
    "import osnap\n",
    "import os.path\n",
    "import flashbang as fb\n",
    "import nucleosynth.nucleo as sky\n",
    "import xarray as xr\n",
    "import numpy as np\n",
    "import progs.progs as progs\n",
    "import matplotlib.pyplot as plt\n",
    "\n",
    "# Hide the yt output\n",
    "import yt\n",
    "yt.set_log_level(50)\n",
    "\n",
    "force_reload_tracers = False\n",
    "run_date = \"14may19\"\n",
    "base_path = f\"/mnt/research/SNAPhU/STIR/run_sukhbold/run_{run_date}\"\n",
    "min_tracer_mass = 1.34\n",
    "max_tracer_mass = 1.39\n",
    "num_tracers = 10\n",
    "zams_mass = 9.0\n",
    "alpha = 1.25\n",
    "\n",
    "progenitor = progs.ProgModel(zams_mass, \"sukhbold_2016\")\n",
    "\n",
    "tracers = fb.load_save.get_tracers(\n",
    "    run = f\"stir2_{run_date}_s{zams_mass}_alpha{alpha}\", \n",
    "    model = f\"run_{zams_mass}\",\n",
    "    model_set = f\"run_{run_date}_a{alpha}\",\n",
    "    mass_grid = np.linspace(min_tracer_mass, max_tracer_mass, num_tracers), \n",
    "    reload = force_reload_tracers,\n",
    "    config = \"stir\"\n",
    ")\n",
    "\n",
    "output = sky.do_nucleosynthesis(\n",
    "    model_path = f\"/mnt/research/SNAPhU/STIR/run_sukhbold/run_{run_date}_a{alpha}/run_{zams_mass}\", \n",
    "    stir_model = f\"stir2_{run_date}_s{zams_mass}_alpha{alpha}\", \n",
    "    progenitor = progenitor,\n",
    "    domain_radius = 1e9,\n",
    "    tracers = tracers,\n",
    "    output_path = f\"./nucleosynthesis/{run_date}_a{alpha}_run_{zams_mass}\",\n",
    "    verbose = True\n",
    ")"
   ]
  },
  {
   "cell_type": "code",
   "execution_count": 2,
   "metadata": {},
   "outputs": [],
   "source": [
    "mass = 9.0\n",
    "alpha = 1.25\n",
    "reload = False\n",
    "run_date = \"14may19\"\n",
    "base_path = f\"/mnt/research/SNAPhU/STIR/run_sukhbold/run_{run_date}\""
   ]
  },
  {
   "cell_type": "code",
   "execution_count": 3,
   "metadata": {},
   "outputs": [],
   "source": [
    "alphas = np.array([1.25])\n",
    "masses = np.array([9.0, 9.25, 9.5, 9.75, 10.0, 10.25, 10.5, 10.75, 11.0, 11.25, 11.5, 11.75, \n",
    "                   12.0, 12.25, 12.5, 12.75, 13.0, 13.1, 13.2, 13.3, 13.4, 13.5, 13.6, 13.7, \n",
    "                   13.8, 13.9, 14.0, 14.1, 14.2, 14.3, 14.4, 14.5, 14.6, 14.7, 14.8, 14.9, \n",
    "                   15.0, 15.1, 15.2, 15.3, 15.4, 15.5, 15.6, 15.7, 15.8, 15.9, 16.0, 16.1, \n",
    "                   16.2, 16.3, 16.4, 16.5, 16.6, 16.7, 16.8, 16.9, 17.0, 17.1, 17.2, 17.3, \n",
    "                   17.4, 17.5, 17.6, 17.7, 17.8, 17.9, 18.0, 18.1, 18.2, 18.3, 18.4, 18.5, \n",
    "                   18.6, 18.7, 18.8, 18.9, 19.0, 19.1, 19.2, 19.3, 19.4, 19.5, 19.6, 19.7, \n",
    "                   19.8, 19.9, 20.0, 20.1, 20.2, 20.3, 20.4, 20.5, 20.6, 20.7, 20.8, 20.9, \n",
    "                   21.0, 21.1, 21.2, 21.3, 21.4, 21.5, 21.6, 21.7, 21.8, 21.9, 22.0, 22.1, \n",
    "                   22.2, 22.3, 22.4, 22.5, 22.6, 22.7, 22.8, 22.9, 23.0, 23.1, 23.2, 23.3, \n",
    "                   23.4, 23.5, 23.6, 23.7, 23.8, 23.9, 24.0, 24.1, 24.2, 24.3, 24.4, 24.5, \n",
    "                   24.6, 24.7, 24.8, 24.9, 25.0, 25.1, 25.2, 25.3, 25.4, 25.5, 25.6, 25.7, \n",
    "                   25.8, 25.9, 26.0, 26.1, 26.2, 26.3, 26.4, 26.5, 26.6, 26.7, 26.8, 26.9, \n",
    "                   27.0, 27.1, 27.2, 27.3, 27.4, 27.5, 27.6, 27.7, 27.8, 27.9, 28.0, 28.1, \n",
    "                   28.2, 28.3, 28.4, 28.5, 28.6, 28.7, 28.8, 28.9, 29.0, 29.1, 29.2, 29.3, \n",
    "                   29.4, 29.5, 29.6, 29.7, 29.8, 29.9, 30.0, 31.0, 32.0, 33.0, 35.0, 40.0, \n",
    "                   45.0, 50.0, 55.0, 60.0, 70.0, 80.0, 100.0, 120.0])"
   ]
  },
  {
   "cell_type": "code",
   "execution_count": 4,
   "metadata": {},
   "outputs": [],
   "source": [
    "model_paths = []\n",
    "model_names = []\n",
    "\n",
    "# Iterate over every alpha and mass value\n",
    "for a in alphas:\n",
    "    for m in masses:\n",
    "\n",
    "        # Construct a path to the model's checkpoints folder\n",
    "        mass_string = f\"{m}\" if m < 31 else f\"{m:.0f}\"\n",
    "        model_path = f\"{base_path}_a{a}/run_{mass_string}\"\n",
    "        if not(os.path.exists(model_path)):\n",
    "            print(f\"Path '{model_path}' does not exist. Skipping.\")\n",
    "            continue\n",
    "\n",
    "        # Construct the model name\n",
    "        model_name = f\"stir2_{run_date}_s{mass_string}_alpha{a}\"\n",
    "\n",
    "        # Add found models to lists\n",
    "        model_paths.append(model_path)\n",
    "        model_names.append(model_name)"
   ]
  },
  {
   "cell_type": "code",
   "execution_count": 5,
   "metadata": {},
   "outputs": [
    {
     "name": "stdout",
     "output_type": "stream",
     "text": [
      "Loading tracers cache: /mnt/home/jdelker/_main/tools/flashbang/cache/run_14may19_a1.25/run_9.0/run_9.0_stir2_14may19_s9.0_alpha1.25_tracers.nc\n"
     ]
    },
    {
     "data": {
      "text/html": [
       "<div><svg style=\"position: absolute; width: 0; height: 0; overflow: hidden\">\n",
       "<defs>\n",
       "<symbol id=\"icon-database\" viewBox=\"0 0 32 32\">\n",
       "<path d=\"M16 0c-8.837 0-16 2.239-16 5v4c0 2.761 7.163 5 16 5s16-2.239 16-5v-4c0-2.761-7.163-5-16-5z\"></path>\n",
       "<path d=\"M16 17c-8.837 0-16-2.239-16-5v6c0 2.761 7.163 5 16 5s16-2.239 16-5v-6c0 2.761-7.163 5-16 5z\"></path>\n",
       "<path d=\"M16 26c-8.837 0-16-2.239-16-5v6c0 2.761 7.163 5 16 5s16-2.239 16-5v-6c0 2.761-7.163 5-16 5z\"></path>\n",
       "</symbol>\n",
       "<symbol id=\"icon-file-text2\" viewBox=\"0 0 32 32\">\n",
       "<path d=\"M28.681 7.159c-0.694-0.947-1.662-2.053-2.724-3.116s-2.169-2.030-3.116-2.724c-1.612-1.182-2.393-1.319-2.841-1.319h-15.5c-1.378 0-2.5 1.121-2.5 2.5v27c0 1.378 1.122 2.5 2.5 2.5h23c1.378 0 2.5-1.122 2.5-2.5v-19.5c0-0.448-0.137-1.23-1.319-2.841zM24.543 5.457c0.959 0.959 1.712 1.825 2.268 2.543h-4.811v-4.811c0.718 0.556 1.584 1.309 2.543 2.268zM28 29.5c0 0.271-0.229 0.5-0.5 0.5h-23c-0.271 0-0.5-0.229-0.5-0.5v-27c0-0.271 0.229-0.5 0.5-0.5 0 0 15.499-0 15.5 0v7c0 0.552 0.448 1 1 1h7v19.5z\"></path>\n",
       "<path d=\"M23 26h-14c-0.552 0-1-0.448-1-1s0.448-1 1-1h14c0.552 0 1 0.448 1 1s-0.448 1-1 1z\"></path>\n",
       "<path d=\"M23 22h-14c-0.552 0-1-0.448-1-1s0.448-1 1-1h14c0.552 0 1 0.448 1 1s-0.448 1-1 1z\"></path>\n",
       "<path d=\"M23 18h-14c-0.552 0-1-0.448-1-1s0.448-1 1-1h14c0.552 0 1 0.448 1 1s-0.448 1-1 1z\"></path>\n",
       "</symbol>\n",
       "</defs>\n",
       "</svg>\n",
       "<style>/* CSS stylesheet for displaying xarray objects in jupyterlab.\n",
       " *\n",
       " */\n",
       "\n",
       ":root {\n",
       "  --xr-font-color0: var(\n",
       "    --jp-content-font-color0,\n",
       "    var(--pst-color-text-base rgba(0, 0, 0, 1))\n",
       "  );\n",
       "  --xr-font-color2: var(\n",
       "    --jp-content-font-color2,\n",
       "    var(--pst-color-text-base, rgba(0, 0, 0, 0.54))\n",
       "  );\n",
       "  --xr-font-color3: var(\n",
       "    --jp-content-font-color3,\n",
       "    var(--pst-color-text-base, rgba(0, 0, 0, 0.38))\n",
       "  );\n",
       "  --xr-border-color: var(\n",
       "    --jp-border-color2,\n",
       "    hsl(from var(--pst-color-on-background, white) h s calc(l - 10))\n",
       "  );\n",
       "  --xr-disabled-color: var(\n",
       "    --jp-layout-color3,\n",
       "    hsl(from var(--pst-color-on-background, white) h s calc(l - 40))\n",
       "  );\n",
       "  --xr-background-color: var(\n",
       "    --jp-layout-color0,\n",
       "    var(--pst-color-on-background, white)\n",
       "  );\n",
       "  --xr-background-color-row-even: var(\n",
       "    --jp-layout-color1,\n",
       "    hsl(from var(--pst-color-on-background, white) h s calc(l - 5))\n",
       "  );\n",
       "  --xr-background-color-row-odd: var(\n",
       "    --jp-layout-color2,\n",
       "    hsl(from var(--pst-color-on-background, white) h s calc(l - 15))\n",
       "  );\n",
       "}\n",
       "\n",
       "html[theme=\"dark\"],\n",
       "html[data-theme=\"dark\"],\n",
       "body[data-theme=\"dark\"],\n",
       "body.vscode-dark {\n",
       "  --xr-font-color0: var(\n",
       "    --jp-content-font-color0,\n",
       "    var(--pst-color-text-base, rgba(255, 255, 255, 1))\n",
       "  );\n",
       "  --xr-font-color2: var(\n",
       "    --jp-content-font-color2,\n",
       "    var(--pst-color-text-base, rgba(255, 255, 255, 0.54))\n",
       "  );\n",
       "  --xr-font-color3: var(\n",
       "    --jp-content-font-color3,\n",
       "    var(--pst-color-text-base, rgba(255, 255, 255, 0.38))\n",
       "  );\n",
       "  --xr-border-color: var(\n",
       "    --jp-border-color2,\n",
       "    hsl(from var(--pst-color-on-background, #111111) h s calc(l + 10))\n",
       "  );\n",
       "  --xr-disabled-color: var(\n",
       "    --jp-layout-color3,\n",
       "    hsl(from var(--pst-color-on-background, #111111) h s calc(l + 40))\n",
       "  );\n",
       "  --xr-background-color: var(\n",
       "    --jp-layout-color0,\n",
       "    var(--pst-color-on-background, #111111)\n",
       "  );\n",
       "  --xr-background-color-row-even: var(\n",
       "    --jp-layout-color1,\n",
       "    hsl(from var(--pst-color-on-background, #111111) h s calc(l + 5))\n",
       "  );\n",
       "  --xr-background-color-row-odd: var(\n",
       "    --jp-layout-color2,\n",
       "    hsl(from var(--pst-color-on-background, #111111) h s calc(l + 15))\n",
       "  );\n",
       "}\n",
       "\n",
       ".xr-wrap {\n",
       "  display: block !important;\n",
       "  min-width: 300px;\n",
       "  max-width: 700px;\n",
       "}\n",
       "\n",
       ".xr-text-repr-fallback {\n",
       "  /* fallback to plain text repr when CSS is not injected (untrusted notebook) */\n",
       "  display: none;\n",
       "}\n",
       "\n",
       ".xr-header {\n",
       "  padding-top: 6px;\n",
       "  padding-bottom: 6px;\n",
       "  margin-bottom: 4px;\n",
       "  border-bottom: solid 1px var(--xr-border-color);\n",
       "}\n",
       "\n",
       ".xr-header > div,\n",
       ".xr-header > ul {\n",
       "  display: inline;\n",
       "  margin-top: 0;\n",
       "  margin-bottom: 0;\n",
       "}\n",
       "\n",
       ".xr-obj-type,\n",
       ".xr-array-name {\n",
       "  margin-left: 2px;\n",
       "  margin-right: 10px;\n",
       "}\n",
       "\n",
       ".xr-obj-type {\n",
       "  color: var(--xr-font-color2);\n",
       "}\n",
       "\n",
       ".xr-sections {\n",
       "  padding-left: 0 !important;\n",
       "  display: grid;\n",
       "  grid-template-columns: 150px auto auto 1fr 0 20px 0 20px;\n",
       "}\n",
       "\n",
       ".xr-section-item {\n",
       "  display: contents;\n",
       "}\n",
       "\n",
       ".xr-section-item input {\n",
       "  display: inline-block;\n",
       "  opacity: 0;\n",
       "  height: 0;\n",
       "}\n",
       "\n",
       ".xr-section-item input + label {\n",
       "  color: var(--xr-disabled-color);\n",
       "  border: 2px solid transparent !important;\n",
       "}\n",
       "\n",
       ".xr-section-item input:enabled + label {\n",
       "  cursor: pointer;\n",
       "  color: var(--xr-font-color2);\n",
       "}\n",
       "\n",
       ".xr-section-item input:focus + label {\n",
       "  border: 2px solid var(--xr-font-color0) !important;\n",
       "}\n",
       "\n",
       ".xr-section-item input:enabled + label:hover {\n",
       "  color: var(--xr-font-color0);\n",
       "}\n",
       "\n",
       ".xr-section-summary {\n",
       "  grid-column: 1;\n",
       "  color: var(--xr-font-color2);\n",
       "  font-weight: 500;\n",
       "}\n",
       "\n",
       ".xr-section-summary > span {\n",
       "  display: inline-block;\n",
       "  padding-left: 0.5em;\n",
       "}\n",
       "\n",
       ".xr-section-summary-in:disabled + label {\n",
       "  color: var(--xr-font-color2);\n",
       "}\n",
       "\n",
       ".xr-section-summary-in + label:before {\n",
       "  display: inline-block;\n",
       "  content: \"►\";\n",
       "  font-size: 11px;\n",
       "  width: 15px;\n",
       "  text-align: center;\n",
       "}\n",
       "\n",
       ".xr-section-summary-in:disabled + label:before {\n",
       "  color: var(--xr-disabled-color);\n",
       "}\n",
       "\n",
       ".xr-section-summary-in:checked + label:before {\n",
       "  content: \"▼\";\n",
       "}\n",
       "\n",
       ".xr-section-summary-in:checked + label > span {\n",
       "  display: none;\n",
       "}\n",
       "\n",
       ".xr-section-summary,\n",
       ".xr-section-inline-details {\n",
       "  padding-top: 4px;\n",
       "  padding-bottom: 4px;\n",
       "}\n",
       "\n",
       ".xr-section-inline-details {\n",
       "  grid-column: 2 / -1;\n",
       "}\n",
       "\n",
       ".xr-section-details {\n",
       "  display: none;\n",
       "  grid-column: 1 / -1;\n",
       "  margin-bottom: 5px;\n",
       "}\n",
       "\n",
       ".xr-section-summary-in:checked ~ .xr-section-details {\n",
       "  display: contents;\n",
       "}\n",
       "\n",
       ".xr-array-wrap {\n",
       "  grid-column: 1 / -1;\n",
       "  display: grid;\n",
       "  grid-template-columns: 20px auto;\n",
       "}\n",
       "\n",
       ".xr-array-wrap > label {\n",
       "  grid-column: 1;\n",
       "  vertical-align: top;\n",
       "}\n",
       "\n",
       ".xr-preview {\n",
       "  color: var(--xr-font-color3);\n",
       "}\n",
       "\n",
       ".xr-array-preview,\n",
       ".xr-array-data {\n",
       "  padding: 0 5px !important;\n",
       "  grid-column: 2;\n",
       "}\n",
       "\n",
       ".xr-array-data,\n",
       ".xr-array-in:checked ~ .xr-array-preview {\n",
       "  display: none;\n",
       "}\n",
       "\n",
       ".xr-array-in:checked ~ .xr-array-data,\n",
       ".xr-array-preview {\n",
       "  display: inline-block;\n",
       "}\n",
       "\n",
       ".xr-dim-list {\n",
       "  display: inline-block !important;\n",
       "  list-style: none;\n",
       "  padding: 0 !important;\n",
       "  margin: 0;\n",
       "}\n",
       "\n",
       ".xr-dim-list li {\n",
       "  display: inline-block;\n",
       "  padding: 0;\n",
       "  margin: 0;\n",
       "}\n",
       "\n",
       ".xr-dim-list:before {\n",
       "  content: \"(\";\n",
       "}\n",
       "\n",
       ".xr-dim-list:after {\n",
       "  content: \")\";\n",
       "}\n",
       "\n",
       ".xr-dim-list li:not(:last-child):after {\n",
       "  content: \",\";\n",
       "  padding-right: 5px;\n",
       "}\n",
       "\n",
       ".xr-has-index {\n",
       "  font-weight: bold;\n",
       "}\n",
       "\n",
       ".xr-var-list,\n",
       ".xr-var-item {\n",
       "  display: contents;\n",
       "}\n",
       "\n",
       ".xr-var-item > div,\n",
       ".xr-var-item label,\n",
       ".xr-var-item > .xr-var-name span {\n",
       "  background-color: var(--xr-background-color-row-even);\n",
       "  border-color: var(--xr-background-color-row-odd);\n",
       "  margin-bottom: 0;\n",
       "  padding-top: 2px;\n",
       "}\n",
       "\n",
       ".xr-var-item > .xr-var-name:hover span {\n",
       "  padding-right: 5px;\n",
       "}\n",
       "\n",
       ".xr-var-list > li:nth-child(odd) > div,\n",
       ".xr-var-list > li:nth-child(odd) > label,\n",
       ".xr-var-list > li:nth-child(odd) > .xr-var-name span {\n",
       "  background-color: var(--xr-background-color-row-odd);\n",
       "  border-color: var(--xr-background-color-row-even);\n",
       "}\n",
       "\n",
       ".xr-var-name {\n",
       "  grid-column: 1;\n",
       "}\n",
       "\n",
       ".xr-var-dims {\n",
       "  grid-column: 2;\n",
       "}\n",
       "\n",
       ".xr-var-dtype {\n",
       "  grid-column: 3;\n",
       "  text-align: right;\n",
       "  color: var(--xr-font-color2);\n",
       "}\n",
       "\n",
       ".xr-var-preview {\n",
       "  grid-column: 4;\n",
       "}\n",
       "\n",
       ".xr-index-preview {\n",
       "  grid-column: 2 / 5;\n",
       "  color: var(--xr-font-color2);\n",
       "}\n",
       "\n",
       ".xr-var-name,\n",
       ".xr-var-dims,\n",
       ".xr-var-dtype,\n",
       ".xr-preview,\n",
       ".xr-attrs dt {\n",
       "  white-space: nowrap;\n",
       "  overflow: hidden;\n",
       "  text-overflow: ellipsis;\n",
       "  padding-right: 10px;\n",
       "}\n",
       "\n",
       ".xr-var-name:hover,\n",
       ".xr-var-dims:hover,\n",
       ".xr-var-dtype:hover,\n",
       ".xr-attrs dt:hover {\n",
       "  overflow: visible;\n",
       "  width: auto;\n",
       "  z-index: 1;\n",
       "}\n",
       "\n",
       ".xr-var-attrs,\n",
       ".xr-var-data,\n",
       ".xr-index-data {\n",
       "  display: none;\n",
       "  border-top: 2px dotted var(--xr-background-color);\n",
       "  padding-bottom: 20px !important;\n",
       "  padding-top: 10px !important;\n",
       "}\n",
       "\n",
       ".xr-var-attrs-in + label,\n",
       ".xr-var-data-in + label,\n",
       ".xr-index-data-in + label {\n",
       "  padding: 0 1px;\n",
       "}\n",
       "\n",
       ".xr-var-attrs-in:checked ~ .xr-var-attrs,\n",
       ".xr-var-data-in:checked ~ .xr-var-data,\n",
       ".xr-index-data-in:checked ~ .xr-index-data {\n",
       "  display: block;\n",
       "}\n",
       "\n",
       ".xr-var-data > table {\n",
       "  float: right;\n",
       "}\n",
       "\n",
       ".xr-var-data > pre,\n",
       ".xr-index-data > pre,\n",
       ".xr-var-data > table > tbody > tr {\n",
       "  background-color: transparent !important;\n",
       "}\n",
       "\n",
       ".xr-var-name span,\n",
       ".xr-var-data,\n",
       ".xr-index-name div,\n",
       ".xr-index-data,\n",
       ".xr-attrs {\n",
       "  padding-left: 25px !important;\n",
       "}\n",
       "\n",
       ".xr-attrs,\n",
       ".xr-var-attrs,\n",
       ".xr-var-data,\n",
       ".xr-index-data {\n",
       "  grid-column: 1 / -1;\n",
       "}\n",
       "\n",
       "dl.xr-attrs {\n",
       "  padding: 0;\n",
       "  margin: 0;\n",
       "  display: grid;\n",
       "  grid-template-columns: 125px auto;\n",
       "}\n",
       "\n",
       ".xr-attrs dt,\n",
       ".xr-attrs dd {\n",
       "  padding: 0;\n",
       "  margin: 0;\n",
       "  float: left;\n",
       "  padding-right: 10px;\n",
       "  width: auto;\n",
       "}\n",
       "\n",
       ".xr-attrs dt {\n",
       "  font-weight: normal;\n",
       "  grid-column: 1;\n",
       "}\n",
       "\n",
       ".xr-attrs dt:hover span {\n",
       "  display: inline-block;\n",
       "  background: var(--xr-background-color);\n",
       "  padding-right: 10px;\n",
       "}\n",
       "\n",
       ".xr-attrs dd {\n",
       "  grid-column: 2;\n",
       "  white-space: pre-wrap;\n",
       "  word-break: break-all;\n",
       "}\n",
       "\n",
       ".xr-icon-database,\n",
       ".xr-icon-file-text2,\n",
       ".xr-no-icon {\n",
       "  display: inline-block;\n",
       "  vertical-align: middle;\n",
       "  width: 1em;\n",
       "  height: 1.5em !important;\n",
       "  stroke-width: 0;\n",
       "  stroke: currentColor;\n",
       "  fill: currentColor;\n",
       "}\n",
       "\n",
       ".xr-var-attrs-in:checked + label > .xr-icon-file-text2,\n",
       ".xr-var-data-in:checked + label > .xr-icon-database,\n",
       ".xr-index-data-in:checked + label > .xr-icon-database {\n",
       "  color: var(--xr-font-color0);\n",
       "  filter: drop-shadow(1px 1px 5px var(--xr-font-color2));\n",
       "  stroke-width: 0.8px;\n",
       "}\n",
       "</style><pre class='xr-text-repr-fallback'>&lt;xarray.Dataset&gt; Size: 1MB\n",
       "Dimensions:  (chk: 116, mass: 100, time: 116)\n",
       "Coordinates:\n",
       "  * chk      (chk) int32 464B 0 1 2 3 4 5 6 7 ... 109 110 111 112 113 114 115\n",
       "  * time     (time) float64 928B 0.0 0.01 0.02 0.03 ... 1.11 1.119 1.119 1.119\n",
       "  * mass     (mass) float64 800B 1.34 1.341 1.341 1.342 ... 1.389 1.389 1.39\n",
       "Data variables: (12/14)\n",
       "    r        (chk, mass) float64 93kB 1.639e+08 1.648e+08 ... 1.119e+09\n",
       "    temp     (chk, mass) float64 93kB 2.42e+09 2.401e+09 ... 1.036e+09 1.036e+09\n",
       "    dens     (chk, mass) float64 93kB 3.624e+06 3.524e+06 ... 1.364e+04\n",
       "    pres     (chk, mass) float64 93kB 5.032e+23 4.85e+23 ... 3.555e+21 3.542e+21\n",
       "    entr     (chk, mass) float64 93kB 2.472 2.477 2.484 ... 13.87 13.93 14.0\n",
       "    velx     (chk, mass) float64 93kB -9.088e+07 -9.094e+07 ... 1.262e+09\n",
       "    ...       ...\n",
       "    ynu      (chk, mass) float64 93kB 1.959e-23 -9.852e-23 ... 0.02255 0.02254\n",
       "    gamc     (chk, mass) float64 93kB 1.393 1.394 1.394 ... 1.318 1.318 1.318\n",
       "    enue     (chk, mass) float64 93kB 6.632 6.632 6.632 ... 10.35 10.34 10.34\n",
       "    enua     (chk, mass) float64 93kB 6.632 6.632 6.632 ... 14.26 14.25 14.25\n",
       "    fnue     (chk, mass) float64 93kB 0.0 0.0 0.0 ... 4.181e-19 4.147e-19\n",
       "    fnua     (chk, mass) float64 93kB 0.0 0.0 0.0 ... 4.376e-19 4.34e-19</pre><div class='xr-wrap' style='display:none'><div class='xr-header'><div class='xr-obj-type'>xarray.Dataset</div></div><ul class='xr-sections'><li class='xr-section-item'><input id='section-244d47ec-4715-4358-aae8-ba2c4435092f' class='xr-section-summary-in' type='checkbox' disabled ><label for='section-244d47ec-4715-4358-aae8-ba2c4435092f' class='xr-section-summary'  title='Expand/collapse section'>Dimensions:</label><div class='xr-section-inline-details'><ul class='xr-dim-list'><li><span class='xr-has-index'>chk</span>: 116</li><li><span class='xr-has-index'>mass</span>: 100</li><li><span class='xr-has-index'>time</span>: 116</li></ul></div><div class='xr-section-details'></div></li><li class='xr-section-item'><input id='section-7605cf22-72ec-440e-9a5b-436769cb166e' class='xr-section-summary-in' type='checkbox'  checked><label for='section-7605cf22-72ec-440e-9a5b-436769cb166e' class='xr-section-summary' >Coordinates: <span>(3)</span></label><div class='xr-section-inline-details'></div><div class='xr-section-details'><ul class='xr-var-list'><li class='xr-var-item'><div class='xr-var-name'><span class='xr-has-index'>chk</span></div><div class='xr-var-dims'>(chk)</div><div class='xr-var-dtype'>int32</div><div class='xr-var-preview xr-preview'>0 1 2 3 4 5 ... 111 112 113 114 115</div><input id='attrs-af28d668-b05b-4413-968f-1d127506bc07' class='xr-var-attrs-in' type='checkbox' disabled><label for='attrs-af28d668-b05b-4413-968f-1d127506bc07' title='Show/Hide attributes'><svg class='icon xr-icon-file-text2'><use xlink:href='#icon-file-text2'></use></svg></label><input id='data-198630be-bb02-486c-b6f5-36bf719e69ab' class='xr-var-data-in' type='checkbox'><label for='data-198630be-bb02-486c-b6f5-36bf719e69ab' title='Show/Hide data repr'><svg class='icon xr-icon-database'><use xlink:href='#icon-database'></use></svg></label><div class='xr-var-attrs'><dl class='xr-attrs'></dl></div><div class='xr-var-data'><pre>array([  0,   1,   2,   3,   4,   5,   6,   7,   8,   9,  10,  11,  12,  13,\n",
       "        14,  15,  16,  17,  18,  19,  20,  21,  22,  23,  24,  25,  26,  27,\n",
       "        28,  29,  30,  31,  32,  33,  34,  35,  36,  37,  38,  39,  40,  41,\n",
       "        42,  43,  44,  45,  46,  47,  48,  49,  50,  51,  52,  53,  54,  55,\n",
       "        56,  57,  58,  59,  60,  61,  62,  63,  64,  65,  66,  67,  68,  69,\n",
       "        70,  71,  72,  73,  74,  75,  76,  77,  78,  79,  80,  81,  82,  83,\n",
       "        84,  85,  86,  87,  88,  89,  90,  91,  92,  93,  94,  95,  96,  97,\n",
       "        98,  99, 100, 101, 102, 103, 104, 105, 106, 107, 108, 109, 110, 111,\n",
       "       112, 113, 114, 115], dtype=int32)</pre></div></li><li class='xr-var-item'><div class='xr-var-name'><span class='xr-has-index'>time</span></div><div class='xr-var-dims'>(time)</div><div class='xr-var-dtype'>float64</div><div class='xr-var-preview xr-preview'>0.0 0.01 0.02 ... 1.119 1.119 1.119</div><input id='attrs-99d52d31-ec6e-4d47-96e7-5fafcf1f5982' class='xr-var-attrs-in' type='checkbox' disabled><label for='attrs-99d52d31-ec6e-4d47-96e7-5fafcf1f5982' title='Show/Hide attributes'><svg class='icon xr-icon-file-text2'><use xlink:href='#icon-file-text2'></use></svg></label><input id='data-351a18b1-24ba-404c-b1ea-0873cce2cfdb' class='xr-var-data-in' type='checkbox'><label for='data-351a18b1-24ba-404c-b1ea-0873cce2cfdb' title='Show/Hide data repr'><svg class='icon xr-icon-database'><use xlink:href='#icon-database'></use></svg></label><div class='xr-var-attrs'><dl class='xr-attrs'></dl></div><div class='xr-var-data'><pre>array([0.      , 0.01    , 0.020001, 0.030001, 0.04    , 0.050001, 0.06    ,\n",
       "       0.070001, 0.080001, 0.09    , 0.100001, 0.11    , 0.120001, 0.130001,\n",
       "       0.14    , 0.15    , 0.16    , 0.17    , 0.18    , 0.19    , 0.2     ,\n",
       "       0.21    , 0.22    , 0.23    , 0.24    , 0.25    , 0.26    , 0.27    ,\n",
       "       0.28    , 0.29    , 0.3     , 0.31    , 0.32    , 0.33    , 0.34    ,\n",
       "       0.35    , 0.36    , 0.37    , 0.38    , 0.39    , 0.4     , 0.41    ,\n",
       "       0.42    , 0.43    , 0.44    , 0.45    , 0.46    , 0.47    , 0.48    ,\n",
       "       0.49    , 0.5     , 0.51    , 0.52    , 0.53    , 0.54    , 0.55    ,\n",
       "       0.56    , 0.57    , 0.58    , 0.59    , 0.6     , 0.61    , 0.62    ,\n",
       "       0.63    , 0.64    , 0.64845 , 0.65    , 0.66    , 0.67    , 0.68    ,\n",
       "       0.69    , 0.7     , 0.71    , 0.72    , 0.73    , 0.74    , 0.75    ,\n",
       "       0.76    , 0.77    , 0.78    , 0.79    , 0.8     , 0.81    , 0.82    ,\n",
       "       0.83    , 0.84    , 0.85    , 0.86    , 0.87    , 0.88    , 0.89    ,\n",
       "       0.9     , 0.91    , 0.92    , 0.93    , 0.94    , 0.95    , 0.96    ,\n",
       "       0.97    , 0.98    , 0.99    , 1.      , 1.01    , 1.02    , 1.03    ,\n",
       "       1.04    , 1.05    , 1.06    , 1.07    , 1.08    , 1.09    , 1.1     ,\n",
       "       1.11    , 1.119044, 1.119044, 1.119045])</pre></div></li><li class='xr-var-item'><div class='xr-var-name'><span class='xr-has-index'>mass</span></div><div class='xr-var-dims'>(mass)</div><div class='xr-var-dtype'>float64</div><div class='xr-var-preview xr-preview'>1.34 1.341 1.341 ... 1.389 1.39</div><input id='attrs-47c99051-e88c-41b0-9eea-91c54b3e2295' class='xr-var-attrs-in' type='checkbox' disabled><label for='attrs-47c99051-e88c-41b0-9eea-91c54b3e2295' title='Show/Hide attributes'><svg class='icon xr-icon-file-text2'><use xlink:href='#icon-file-text2'></use></svg></label><input id='data-47216f53-fc2e-45c7-9571-e78e341725d7' class='xr-var-data-in' type='checkbox'><label for='data-47216f53-fc2e-45c7-9571-e78e341725d7' title='Show/Hide data repr'><svg class='icon xr-icon-database'><use xlink:href='#icon-database'></use></svg></label><div class='xr-var-attrs'><dl class='xr-attrs'></dl></div><div class='xr-var-data'><pre>array([1.34    , 1.340505, 1.34101 , 1.341515, 1.34202 , 1.342525, 1.34303 ,\n",
       "       1.343535, 1.34404 , 1.344545, 1.345051, 1.345556, 1.346061, 1.346566,\n",
       "       1.347071, 1.347576, 1.348081, 1.348586, 1.349091, 1.349596, 1.350101,\n",
       "       1.350606, 1.351111, 1.351616, 1.352121, 1.352626, 1.353131, 1.353636,\n",
       "       1.354141, 1.354646, 1.355152, 1.355657, 1.356162, 1.356667, 1.357172,\n",
       "       1.357677, 1.358182, 1.358687, 1.359192, 1.359697, 1.360202, 1.360707,\n",
       "       1.361212, 1.361717, 1.362222, 1.362727, 1.363232, 1.363737, 1.364242,\n",
       "       1.364747, 1.365253, 1.365758, 1.366263, 1.366768, 1.367273, 1.367778,\n",
       "       1.368283, 1.368788, 1.369293, 1.369798, 1.370303, 1.370808, 1.371313,\n",
       "       1.371818, 1.372323, 1.372828, 1.373333, 1.373838, 1.374343, 1.374848,\n",
       "       1.375354, 1.375859, 1.376364, 1.376869, 1.377374, 1.377879, 1.378384,\n",
       "       1.378889, 1.379394, 1.379899, 1.380404, 1.380909, 1.381414, 1.381919,\n",
       "       1.382424, 1.382929, 1.383434, 1.383939, 1.384444, 1.384949, 1.385455,\n",
       "       1.38596 , 1.386465, 1.38697 , 1.387475, 1.38798 , 1.388485, 1.38899 ,\n",
       "       1.389495, 1.39    ])</pre></div></li></ul></div></li><li class='xr-section-item'><input id='section-bb36e9d0-f47f-4405-a8e0-a46685a93dad' class='xr-section-summary-in' type='checkbox'  checked><label for='section-bb36e9d0-f47f-4405-a8e0-a46685a93dad' class='xr-section-summary' >Data variables: <span>(14)</span></label><div class='xr-section-inline-details'></div><div class='xr-section-details'><ul class='xr-var-list'><li class='xr-var-item'><div class='xr-var-name'><span>r</span></div><div class='xr-var-dims'>(chk, mass)</div><div class='xr-var-dtype'>float64</div><div class='xr-var-preview xr-preview'>1.639e+08 1.648e+08 ... 1.119e+09</div><input id='attrs-a036df47-6458-4eea-8d21-0a3961fed38e' class='xr-var-attrs-in' type='checkbox' disabled><label for='attrs-a036df47-6458-4eea-8d21-0a3961fed38e' title='Show/Hide attributes'><svg class='icon xr-icon-file-text2'><use xlink:href='#icon-file-text2'></use></svg></label><input id='data-aa65332c-6886-48d1-9e7f-ccc597907332' class='xr-var-data-in' type='checkbox'><label for='data-aa65332c-6886-48d1-9e7f-ccc597907332' title='Show/Hide data repr'><svg class='icon xr-icon-database'><use xlink:href='#icon-database'></use></svg></label><div class='xr-var-attrs'><dl class='xr-attrs'></dl></div><div class='xr-var-data'><pre>array([[1.63926270e+08, 1.64752075e+08, 1.65596178e+08, ...,\n",
       "        7.23760625e+08, 7.38436497e+08, 7.53458720e+08],\n",
       "       [1.62983065e+08, 1.63813535e+08, 1.64653025e+08, ...,\n",
       "        7.23507347e+08, 7.38191413e+08, 7.53220018e+08],\n",
       "       [1.61973322e+08, 1.62802826e+08, 1.63645363e+08, ...,\n",
       "        7.23249778e+08, 7.37943005e+08, 7.52978826e+08],\n",
       "       ...,\n",
       "       [1.79610157e+06, 1.80332952e+06, 1.81087441e+06, ...,\n",
       "        1.10940739e+09, 1.11409284e+09, 1.11877439e+09],\n",
       "       [1.79610129e+06, 1.80332926e+06, 1.81087411e+06, ...,\n",
       "        1.10940792e+09, 1.11409337e+09, 1.11877492e+09],\n",
       "       [1.79610101e+06, 1.80332900e+06, 1.81087380e+06, ...,\n",
       "        1.10940844e+09, 1.11409390e+09, 1.11877545e+09]], shape=(116, 100))</pre></div></li><li class='xr-var-item'><div class='xr-var-name'><span>temp</span></div><div class='xr-var-dims'>(chk, mass)</div><div class='xr-var-dtype'>float64</div><div class='xr-var-preview xr-preview'>2.42e+09 2.401e+09 ... 1.036e+09</div><input id='attrs-f979f495-a5df-48da-8bc1-3c087d1a3b13' class='xr-var-attrs-in' type='checkbox' disabled><label for='attrs-f979f495-a5df-48da-8bc1-3c087d1a3b13' title='Show/Hide attributes'><svg class='icon xr-icon-file-text2'><use xlink:href='#icon-file-text2'></use></svg></label><input id='data-894693cf-5e60-41ce-9810-8075462c7bf4' class='xr-var-data-in' type='checkbox'><label for='data-894693cf-5e60-41ce-9810-8075462c7bf4' title='Show/Hide data repr'><svg class='icon xr-icon-database'><use xlink:href='#icon-database'></use></svg></label><div class='xr-var-attrs'><dl class='xr-attrs'></dl></div><div class='xr-var-data'><pre>array([[2.42042449e+09, 2.40120345e+09, 2.38159198e+09, ...,\n",
       "        5.78228216e+08, 5.65277443e+08, 5.52021031e+08],\n",
       "       [2.42963454e+09, 2.41125721e+09, 2.39285964e+09, ...,\n",
       "        5.78320869e+08, 5.65309979e+08, 5.52076507e+08],\n",
       "       [2.44053629e+09, 2.42232331e+09, 2.40352420e+09, ...,\n",
       "        5.78466433e+08, 5.65309159e+08, 5.52159803e+08],\n",
       "       ...,\n",
       "       [7.10435209e+10, 6.99954369e+10, 6.89153485e+10, ...,\n",
       "        1.03685888e+09, 1.03623078e+09, 1.03550805e+09],\n",
       "       [7.10435236e+10, 6.99954383e+10, 6.89153540e+10, ...,\n",
       "        1.03685830e+09, 1.03623020e+09, 1.03550746e+09],\n",
       "       [7.10435264e+10, 6.99954398e+10, 6.89153596e+10, ...,\n",
       "        1.03685772e+09, 1.03622962e+09, 1.03550687e+09]], shape=(116, 100))</pre></div></li><li class='xr-var-item'><div class='xr-var-name'><span>dens</span></div><div class='xr-var-dims'>(chk, mass)</div><div class='xr-var-dtype'>float64</div><div class='xr-var-preview xr-preview'>3.624e+06 3.524e+06 ... 1.364e+04</div><input id='attrs-c4a60280-9c5f-4a92-8679-e97d30f35a7a' class='xr-var-attrs-in' type='checkbox' disabled><label for='attrs-c4a60280-9c5f-4a92-8679-e97d30f35a7a' title='Show/Hide attributes'><svg class='icon xr-icon-file-text2'><use xlink:href='#icon-file-text2'></use></svg></label><input id='data-24b26c37-7706-4071-a5e0-eec847996b87' class='xr-var-data-in' type='checkbox'><label for='data-24b26c37-7706-4071-a5e0-eec847996b87' title='Show/Hide data repr'><svg class='icon xr-icon-database'><use xlink:href='#icon-database'></use></svg></label><div class='xr-var-attrs'><dl class='xr-attrs'></dl></div><div class='xr-var-data'><pre>array([[3.62443674e+06, 3.52371096e+06, 3.42258870e+06, ...,\n",
       "        1.04996774e+04, 9.88111871e+03, 9.24796201e+03],\n",
       "       [3.66486929e+06, 3.56524924e+06, 3.46646603e+06, ...,\n",
       "        1.05040488e+04, 9.88273952e+03, 9.25068635e+03],\n",
       "       [3.71207754e+06, 3.61233069e+06, 3.51301798e+06, ...,\n",
       "        1.05109523e+04, 9.88271648e+03, 9.25463190e+03],\n",
       "       ...,\n",
       "       [3.50422034e+12, 3.25159542e+12, 2.99969410e+12, ...,\n",
       "        1.38510950e+04, 1.37504307e+04, 1.36418063e+04],\n",
       "       [3.50422240e+12, 3.25159748e+12, 2.99969598e+12, ...,\n",
       "        1.38510694e+04, 1.37504047e+04, 1.36417801e+04],\n",
       "       [3.50422447e+12, 3.25159953e+12, 2.99969786e+12, ...,\n",
       "        1.38510439e+04, 1.37503787e+04, 1.36417538e+04]], shape=(116, 100))</pre></div></li><li class='xr-var-item'><div class='xr-var-name'><span>pres</span></div><div class='xr-var-dims'>(chk, mass)</div><div class='xr-var-dtype'>float64</div><div class='xr-var-preview xr-preview'>5.032e+23 4.85e+23 ... 3.542e+21</div><input id='attrs-e8bf4c31-64f0-4ba6-bca1-2b776fdf9a9f' class='xr-var-attrs-in' type='checkbox' disabled><label for='attrs-e8bf4c31-64f0-4ba6-bca1-2b776fdf9a9f' title='Show/Hide attributes'><svg class='icon xr-icon-file-text2'><use xlink:href='#icon-file-text2'></use></svg></label><input id='data-fd54ff4a-cdf9-4a7b-aa2f-bd93d22c612c' class='xr-var-data-in' type='checkbox'><label for='data-fd54ff4a-cdf9-4a7b-aa2f-bd93d22c612c' title='Show/Hide data repr'><svg class='icon xr-icon-database'><use xlink:href='#icon-database'></use></svg></label><div class='xr-var-attrs'><dl class='xr-attrs'></dl></div><div class='xr-var-data'><pre>array([[5.03160558e+23, 4.85022457e+23, 4.67324581e+23, ...,\n",
       "        5.41471227e+20, 4.96536120e+20, 4.52286202e+20],\n",
       "       [5.10976948e+23, 4.93139392e+23, 4.75597186e+23, ...,\n",
       "        5.41792874e+20, 4.96651444e+20, 4.52471357e+20],\n",
       "       [5.20191213e+23, 5.02238160e+23, 4.84497827e+23, ...,\n",
       "        5.42300343e+20, 4.96651024e+20, 4.52740183e+20],\n",
       "       ...,\n",
       "       [2.05159591e+31, 1.88180773e+31, 1.71364523e+31, ...,\n",
       "        3.56716655e+21, 3.55541631e+21, 3.54217094e+21],\n",
       "       [2.05159706e+31, 1.88180895e+31, 1.71364623e+31, ...,\n",
       "        3.56715841e+21, 3.55540807e+21, 3.54216265e+21],\n",
       "       [2.05159821e+31, 1.88181018e+31, 1.71364723e+31, ...,\n",
       "        3.56715028e+21, 3.55539984e+21, 3.54215436e+21]], shape=(116, 100))</pre></div></li><li class='xr-var-item'><div class='xr-var-name'><span>entr</span></div><div class='xr-var-dims'>(chk, mass)</div><div class='xr-var-dtype'>float64</div><div class='xr-var-preview xr-preview'>2.472 2.477 2.484 ... 13.93 14.0</div><input id='attrs-1d38ae4e-0872-4461-954a-b509cc4da0e1' class='xr-var-attrs-in' type='checkbox' disabled><label for='attrs-1d38ae4e-0872-4461-954a-b509cc4da0e1' title='Show/Hide attributes'><svg class='icon xr-icon-file-text2'><use xlink:href='#icon-file-text2'></use></svg></label><input id='data-32d98058-1199-4111-b414-edd33df8ef73' class='xr-var-data-in' type='checkbox'><label for='data-32d98058-1199-4111-b414-edd33df8ef73' title='Show/Hide data repr'><svg class='icon xr-icon-database'><use xlink:href='#icon-database'></use></svg></label><div class='xr-var-attrs'><dl class='xr-attrs'></dl></div><div class='xr-var-data'><pre>array([[ 2.47216735,  2.47691326,  2.48360008, ...,  5.63742941,\n",
       "         5.63678194,  5.63088906],\n",
       "       [ 2.47240354,  2.47751766,  2.48295471, ...,  5.63743411,\n",
       "         5.63675633,  5.63093035],\n",
       "       [ 2.47267731,  2.47773338,  2.48306412, ...,  5.63741888,\n",
       "         5.63673088,  5.63094113],\n",
       "       ...,\n",
       "       [ 4.09517788,  4.1472437 ,  4.20200005, ..., 13.86890572,\n",
       "        13.93249861, 13.99994147],\n",
       "       [ 4.09517723,  4.14724319,  4.20199924, ..., 13.86890842,\n",
       "        13.93250139, 13.99994428],\n",
       "       [ 4.09517658,  4.14724267,  4.20199842, ..., 13.86891113,\n",
       "        13.93250417, 13.99994709]], shape=(116, 100))</pre></div></li><li class='xr-var-item'><div class='xr-var-name'><span>velx</span></div><div class='xr-var-dims'>(chk, mass)</div><div class='xr-var-dtype'>float64</div><div class='xr-var-preview xr-preview'>-9.088e+07 -9.094e+07 ... 1.262e+09</div><input id='attrs-da6131ca-fe7e-4f5d-a2d4-e9d569eb83a0' class='xr-var-attrs-in' type='checkbox' disabled><label for='attrs-da6131ca-fe7e-4f5d-a2d4-e9d569eb83a0' title='Show/Hide attributes'><svg class='icon xr-icon-file-text2'><use xlink:href='#icon-file-text2'></use></svg></label><input id='data-7c7f1ed8-4f81-4c21-a4c1-818eaf67a5eb' class='xr-var-data-in' type='checkbox'><label for='data-7c7f1ed8-4f81-4c21-a4c1-818eaf67a5eb' title='Show/Hide data repr'><svg class='icon xr-icon-database'><use xlink:href='#icon-database'></use></svg></label><div class='xr-var-attrs'><dl class='xr-attrs'></dl></div><div class='xr-var-data'><pre>array([[-9.08764350e+07, -9.09351265e+07, -9.09930292e+07, ...,\n",
       "        -2.50294582e+07, -2.44120977e+07, -2.37801675e+07],\n",
       "       [-9.75127111e+07, -9.76218510e+07, -9.76633294e+07, ...,\n",
       "        -2.54746227e+07, -2.47293985e+07, -2.39948768e+07],\n",
       "       [-1.04713704e+08, -1.04613100e+08, -1.04528831e+08, ...,\n",
       "        -2.58768672e+07, -2.50535564e+07, -2.42395016e+07],\n",
       "       ...,\n",
       "       [-5.88408135e+05, -6.61661982e+05, -7.16119384e+05, ...,\n",
       "         1.24195470e+09,  1.25187464e+09,  1.26211782e+09],\n",
       "       [-5.88438368e+05, -6.61774599e+05, -7.16292891e+05, ...,\n",
       "         1.24195464e+09,  1.25187460e+09,  1.26211780e+09],\n",
       "       [-5.88471682e+05, -6.61886355e+05, -7.16461327e+05, ...,\n",
       "         1.24195459e+09,  1.25187456e+09,  1.26211778e+09]],\n",
       "      shape=(116, 100))</pre></div></li><li class='xr-var-item'><div class='xr-var-name'><span>gpot</span></div><div class='xr-var-dims'>(chk, mass)</div><div class='xr-var-dtype'>float64</div><div class='xr-var-preview xr-preview'>-1.109e+18 ... -1.608e+17</div><input id='attrs-3bb75568-09c2-461e-8f26-c11c015dd1cf' class='xr-var-attrs-in' type='checkbox' disabled><label for='attrs-3bb75568-09c2-461e-8f26-c11c015dd1cf' title='Show/Hide attributes'><svg class='icon xr-icon-file-text2'><use xlink:href='#icon-file-text2'></use></svg></label><input id='data-05616d9e-75ac-47b5-8074-1bc82f588cce' class='xr-var-data-in' type='checkbox'><label for='data-05616d9e-75ac-47b5-8074-1bc82f588cce' title='Show/Hide data repr'><svg class='icon xr-icon-database'><use xlink:href='#icon-database'></use></svg></label><div class='xr-var-attrs'><dl class='xr-attrs'></dl></div><div class='xr-var-data'><pre>array([[-1.10942851e+18, -1.10398322e+18, -1.09848036e+18, ...,\n",
       "        -2.55931241e+17, -2.50880943e+17, -2.45914333e+17],\n",
       "       [-1.11588371e+18, -1.11036168e+18, -1.10481285e+18, ...,\n",
       "        -2.56041617e+17, -2.50985479e+17, -2.46012840e+17],\n",
       "       [-1.12263917e+18, -1.11705451e+18, -1.11143168e+18, ...,\n",
       "        -2.56100545e+17, -2.51039249e+17, -2.46061296e+17],\n",
       "       ...,\n",
       "       [-1.11585780e+20, -1.11085972e+20, -1.10567064e+20, ...,\n",
       "        -1.62151262e+17, -1.61475635e+17, -1.60806254e+17],\n",
       "       [-1.11585790e+20, -1.11085981e+20, -1.10567075e+20, ...,\n",
       "        -1.62151173e+17, -1.61475546e+17, -1.60806166e+17],\n",
       "       [-1.11585810e+20, -1.11086000e+20, -1.10567096e+20, ...,\n",
       "        -1.62151097e+17, -1.61475470e+17, -1.60806090e+17]],\n",
       "      shape=(116, 100))</pre></div></li><li class='xr-var-item'><div class='xr-var-name'><span>ye  </span></div><div class='xr-var-dims'>(chk, mass)</div><div class='xr-var-dtype'>float64</div><div class='xr-var-preview xr-preview'>0.4989 0.4989 ... 0.4993 0.4993</div><input id='attrs-dadbf2ba-07bb-43fb-94cb-1ec1275da4d6' class='xr-var-attrs-in' type='checkbox' disabled><label for='attrs-dadbf2ba-07bb-43fb-94cb-1ec1275da4d6' title='Show/Hide attributes'><svg class='icon xr-icon-file-text2'><use xlink:href='#icon-file-text2'></use></svg></label><input id='data-1bc8ba0d-016c-4aac-bd66-1feeff147251' class='xr-var-data-in' type='checkbox'><label for='data-1bc8ba0d-016c-4aac-bd66-1feeff147251' title='Show/Hide data repr'><svg class='icon xr-icon-database'><use xlink:href='#icon-database'></use></svg></label><div class='xr-var-attrs'><dl class='xr-attrs'></dl></div><div class='xr-var-data'><pre>array([[0.49888908, 0.4988893 , 0.49888953, ..., 0.49907027, 0.49907029,\n",
       "        0.49907031],\n",
       "       [0.49888813, 0.49888839, 0.49888865, ..., 0.49907027, 0.49907029,\n",
       "        0.49907031],\n",
       "       [0.49888715, 0.49888746, 0.49888775, ..., 0.49907027, 0.49907029,\n",
       "        0.49907031],\n",
       "       ...,\n",
       "       [0.0635744 , 0.06392362, 0.06430084, ..., 0.49933376, 0.49932884,\n",
       "        0.4993243 ],\n",
       "       [0.06357439, 0.06392361, 0.06430083, ..., 0.49933376, 0.49932884,\n",
       "        0.4993243 ],\n",
       "       [0.06357438, 0.06392361, 0.06430082, ..., 0.49933376, 0.49932884,\n",
       "        0.4993243 ]], shape=(116, 100))</pre></div></li><li class='xr-var-item'><div class='xr-var-name'><span>ynu </span></div><div class='xr-var-dims'>(chk, mass)</div><div class='xr-var-dtype'>float64</div><div class='xr-var-preview xr-preview'>1.959e-23 -9.852e-23 ... 0.02254</div><input id='attrs-edad94c1-0e70-4e37-8bb7-0ac3845250f4' class='xr-var-attrs-in' type='checkbox' disabled><label for='attrs-edad94c1-0e70-4e37-8bb7-0ac3845250f4' title='Show/Hide attributes'><svg class='icon xr-icon-file-text2'><use xlink:href='#icon-file-text2'></use></svg></label><input id='data-0f905205-7c14-4af2-bc57-ac0fc4604ae2' class='xr-var-data-in' type='checkbox'><label for='data-0f905205-7c14-4af2-bc57-ac0fc4604ae2' title='Show/Hide data repr'><svg class='icon xr-icon-database'><use xlink:href='#icon-database'></use></svg></label><div class='xr-var-attrs'><dl class='xr-attrs'></dl></div><div class='xr-var-data'><pre>array([[ 1.95941787e-23, -9.85152422e-23, -1.40183622e-22, ...,\n",
       "         1.73862759e-21, -1.30667816e-21, -1.62693810e-21],\n",
       "       [ 2.69771056e-03,  2.74539784e-03,  2.79394271e-03, ...,\n",
       "         2.93721006e-20, -1.44567592e-21, -2.72109949e-21],\n",
       "       [ 2.65021458e-03,  2.69558023e-03,  2.74288061e-03, ...,\n",
       "         2.62627080e-07,  7.01561934e-08,  1.68535206e-08],\n",
       "       ...,\n",
       "       [ 7.64061463e-04,  7.75338936e-04,  7.87391742e-04, ...,\n",
       "         2.25843456e-02,  2.25549133e-02,  2.25413433e-02],\n",
       "       [ 7.64061135e-04,  7.75338996e-04,  7.87391905e-04, ...,\n",
       "         2.25843569e-02,  2.25549247e-02,  2.25413559e-02],\n",
       "       [ 7.64060795e-04,  7.75339012e-04,  7.87392095e-04, ...,\n",
       "         2.25843681e-02,  2.25549361e-02,  2.25413685e-02]],\n",
       "      shape=(116, 100))</pre></div></li><li class='xr-var-item'><div class='xr-var-name'><span>gamc</span></div><div class='xr-var-dims'>(chk, mass)</div><div class='xr-var-dtype'>float64</div><div class='xr-var-preview xr-preview'>1.393 1.394 1.394 ... 1.318 1.318</div><input id='attrs-5e9358e4-be29-4cec-92e0-a7a2524d88a7' class='xr-var-attrs-in' type='checkbox' disabled><label for='attrs-5e9358e4-be29-4cec-92e0-a7a2524d88a7' title='Show/Hide attributes'><svg class='icon xr-icon-file-text2'><use xlink:href='#icon-file-text2'></use></svg></label><input id='data-4aa172bd-02ef-42ee-811c-28b624090741' class='xr-var-data-in' type='checkbox'><label for='data-4aa172bd-02ef-42ee-811c-28b624090741' title='Show/Hide data repr'><svg class='icon xr-icon-database'><use xlink:href='#icon-database'></use></svg></label><div class='xr-var-attrs'><dl class='xr-attrs'></dl></div><div class='xr-var-data'><pre>array([[1.39342618, 1.3935793 , 1.39390272, ..., 1.40570786, 1.40744291,\n",
       "        1.40597136],\n",
       "       [1.3933535 , 1.39337169, 1.39341519, ..., 1.40568809, 1.40743429,\n",
       "        1.40597121],\n",
       "       [1.39318136, 1.39330659, 1.39341892, ..., 1.40565134, 1.40742406,\n",
       "        1.40595778],\n",
       "       ...,\n",
       "       [1.57342593, 1.57410878, 1.57477133, ..., 1.31763512, 1.31790311,\n",
       "        1.31815069],\n",
       "       [1.57342591, 1.57410876, 1.57477131, ..., 1.31763536, 1.31790334,\n",
       "        1.3181509 ],\n",
       "       [1.57342588, 1.57410874, 1.5747713 , ..., 1.3176356 , 1.31790356,\n",
       "        1.3181511 ]], shape=(116, 100))</pre></div></li><li class='xr-var-item'><div class='xr-var-name'><span>enue</span></div><div class='xr-var-dims'>(chk, mass)</div><div class='xr-var-dtype'>float64</div><div class='xr-var-preview xr-preview'>6.632 6.632 6.632 ... 10.34 10.34</div><input id='attrs-c91b28f8-8e04-44f7-bee8-dcda014bad85' class='xr-var-attrs-in' type='checkbox' disabled><label for='attrs-c91b28f8-8e04-44f7-bee8-dcda014bad85' title='Show/Hide attributes'><svg class='icon xr-icon-file-text2'><use xlink:href='#icon-file-text2'></use></svg></label><input id='data-a48959b4-bf0b-41dd-92bb-40d1cfcd4eb5' class='xr-var-data-in' type='checkbox'><label for='data-a48959b4-bf0b-41dd-92bb-40d1cfcd4eb5' title='Show/Hide data repr'><svg class='icon xr-icon-database'><use xlink:href='#icon-database'></use></svg></label><div class='xr-var-attrs'><dl class='xr-attrs'></dl></div><div class='xr-var-data'><pre>array([[ 6.63151602,  6.63151602,  6.63151602, ...,  6.63151602,\n",
       "         6.63151602,  6.63151602],\n",
       "       [ 2.3094387 ,  2.30945345,  2.30948783, ...,  6.62757543,\n",
       "         6.62769297,  6.62782989],\n",
       "       [ 2.3234877 ,  2.32341957,  2.32332945, ...,  6.61013226,\n",
       "         6.6194236 ,  6.62148111],\n",
       "       ...,\n",
       "       [13.30841792, 13.23631818, 13.16295808, ..., 10.34615749,\n",
       "        10.34272245, 10.339152  ],\n",
       "       [13.30841001, 13.23631366, 13.16296782, ..., 10.34615757,\n",
       "        10.34272251, 10.33915206],\n",
       "       [13.3083862 , 13.23628702, 13.16294984, ..., 10.34615765,\n",
       "        10.34272257, 10.33915212]], shape=(116, 100))</pre></div></li><li class='xr-var-item'><div class='xr-var-name'><span>enua</span></div><div class='xr-var-dims'>(chk, mass)</div><div class='xr-var-dtype'>float64</div><div class='xr-var-preview xr-preview'>6.632 6.632 6.632 ... 14.25 14.25</div><input id='attrs-c7974ce2-6064-4e6e-8bc0-ccd798d1fd4c' class='xr-var-attrs-in' type='checkbox' disabled><label for='attrs-c7974ce2-6064-4e6e-8bc0-ccd798d1fd4c' title='Show/Hide attributes'><svg class='icon xr-icon-file-text2'><use xlink:href='#icon-file-text2'></use></svg></label><input id='data-70f95ea3-5650-462a-a7f4-5bb3c6749b3c' class='xr-var-data-in' type='checkbox'><label for='data-70f95ea3-5650-462a-a7f4-5bb3c6749b3c' title='Show/Hide data repr'><svg class='icon xr-icon-database'><use xlink:href='#icon-database'></use></svg></label><div class='xr-var-attrs'><dl class='xr-attrs'></dl></div><div class='xr-var-data'><pre>array([[ 6.63151602,  6.63151602,  6.63151602, ...,  6.63151602,\n",
       "         6.63151602,  6.63151602],\n",
       "       [12.58958169, 12.4660813 , 12.34270265, ...,  6.62757543,\n",
       "         6.62769297,  6.62782989],\n",
       "       [ 9.99248987, 10.02119669, 10.04897508, ...,  6.62135731,\n",
       "         6.62180303,  6.62196479],\n",
       "       ...,\n",
       "       [18.28411126, 18.23167635, 18.17734615, ..., 14.25885831,\n",
       "        14.25403184, 14.24905847],\n",
       "       [18.28408503, 18.23168272, 18.17739142, ..., 14.25885857,\n",
       "        14.25403211, 14.2490587 ],\n",
       "       [18.28404235, 18.23165629, 18.17739535, ..., 14.25885883,\n",
       "        14.25403238, 14.24905894]], shape=(116, 100))</pre></div></li><li class='xr-var-item'><div class='xr-var-name'><span>fnue</span></div><div class='xr-var-dims'>(chk, mass)</div><div class='xr-var-dtype'>float64</div><div class='xr-var-preview xr-preview'>0.0 0.0 0.0 ... 4.181e-19 4.147e-19</div><input id='attrs-1ec31be2-b3a1-48be-a730-584012b7f3ff' class='xr-var-attrs-in' type='checkbox' disabled><label for='attrs-1ec31be2-b3a1-48be-a730-584012b7f3ff' title='Show/Hide attributes'><svg class='icon xr-icon-file-text2'><use xlink:href='#icon-file-text2'></use></svg></label><input id='data-213ecc37-ad9b-4be7-a936-30ab0f4ded94' class='xr-var-data-in' type='checkbox'><label for='data-213ecc37-ad9b-4be7-a936-30ab0f4ded94' title='Show/Hide data repr'><svg class='icon xr-icon-database'><use xlink:href='#icon-database'></use></svg></label><div class='xr-var-attrs'><dl class='xr-attrs'></dl></div><div class='xr-var-data'><pre>array([[0.00000000e+00, 0.00000000e+00, 0.00000000e+00, ...,\n",
       "        0.00000000e+00, 0.00000000e+00, 0.00000000e+00],\n",
       "       [6.45766377e-19, 6.39317481e-19, 6.32844433e-19, ...,\n",
       "        9.42864734e-23, 9.11749584e-23, 8.81655066e-23],\n",
       "       [6.45856055e-19, 6.39270042e-19, 6.32663542e-19, ...,\n",
       "        9.50773775e-23, 9.05625833e-23, 8.65114498e-23],\n",
       "       ...,\n",
       "       [1.88035444e-13, 1.87063488e-13, 1.86014571e-13, ...,\n",
       "        4.21592092e-19, 4.18107799e-19, 4.14665715e-19],\n",
       "       [1.88035544e-13, 1.87063627e-13, 1.86014703e-13, ...,\n",
       "        4.21591552e-19, 4.18107260e-19, 4.14665182e-19],\n",
       "       [1.88035647e-13, 1.87063805e-13, 1.86014914e-13, ...,\n",
       "        4.21591012e-19, 4.18106721e-19, 4.14664649e-19]], shape=(116, 100))</pre></div></li><li class='xr-var-item'><div class='xr-var-name'><span>fnua</span></div><div class='xr-var-dims'>(chk, mass)</div><div class='xr-var-dtype'>float64</div><div class='xr-var-preview xr-preview'>0.0 0.0 0.0 ... 4.376e-19 4.34e-19</div><input id='attrs-774cd99f-e681-4e5f-90c8-583b7313dd7d' class='xr-var-attrs-in' type='checkbox' disabled><label for='attrs-774cd99f-e681-4e5f-90c8-583b7313dd7d' title='Show/Hide attributes'><svg class='icon xr-icon-file-text2'><use xlink:href='#icon-file-text2'></use></svg></label><input id='data-6437cd7c-6eb6-4a18-8678-64782c6f6859' class='xr-var-data-in' type='checkbox'><label for='data-6437cd7c-6eb6-4a18-8678-64782c6f6859' title='Show/Hide data repr'><svg class='icon xr-icon-database'><use xlink:href='#icon-database'></use></svg></label><div class='xr-var-attrs'><dl class='xr-attrs'></dl></div><div class='xr-var-data'><pre>array([[0.00000000e+00, 0.00000000e+00, 0.00000000e+00, ...,\n",
       "        0.00000000e+00, 0.00000000e+00, 0.00000000e+00],\n",
       "       [8.83395049e-23, 8.92983785e-23, 9.02774172e-23, ...,\n",
       "        9.42864734e-23, 9.11749584e-23, 8.81655066e-23],\n",
       "       [1.39200699e-24, 1.38784161e-24, 1.38373107e-24, ...,\n",
       "        9.47262594e-23, 9.04662048e-23, 8.64887507e-23],\n",
       "       ...,\n",
       "       [1.88392708e-13, 1.88576730e-13, 1.88674211e-13, ...,\n",
       "        4.41284493e-19, 4.37631675e-19, 4.34018442e-19],\n",
       "       [1.88392787e-13, 1.88576678e-13, 1.88674013e-13, ...,\n",
       "        4.41283942e-19, 4.37631129e-19, 4.34017899e-19],\n",
       "       [1.88392939e-13, 1.88576757e-13, 1.88673978e-13, ...,\n",
       "        4.41283390e-19, 4.37630583e-19, 4.34017356e-19]], shape=(116, 100))</pre></div></li></ul></div></li><li class='xr-section-item'><input id='section-d81fe1f9-7850-4599-9624-62a43fcb9a85' class='xr-section-summary-in' type='checkbox'  ><label for='section-d81fe1f9-7850-4599-9624-62a43fcb9a85' class='xr-section-summary' >Indexes: <span>(3)</span></label><div class='xr-section-inline-details'></div><div class='xr-section-details'><ul class='xr-var-list'><li class='xr-var-item'><div class='xr-index-name'><div>chk</div></div><div class='xr-index-preview'>PandasIndex</div><input type='checkbox' disabled/><label></label><input id='index-60a74246-b0e1-4518-bf22-f2dd4973c024' class='xr-index-data-in' type='checkbox'/><label for='index-60a74246-b0e1-4518-bf22-f2dd4973c024' title='Show/Hide index repr'><svg class='icon xr-icon-database'><use xlink:href='#icon-database'></use></svg></label><div class='xr-index-data'><pre>PandasIndex(Index([  0,   1,   2,   3,   4,   5,   6,   7,   8,   9,\n",
       "       ...\n",
       "       106, 107, 108, 109, 110, 111, 112, 113, 114, 115],\n",
       "      dtype=&#x27;int32&#x27;, name=&#x27;chk&#x27;, length=116))</pre></div></li><li class='xr-var-item'><div class='xr-index-name'><div>time</div></div><div class='xr-index-preview'>PandasIndex</div><input type='checkbox' disabled/><label></label><input id='index-e06db000-6b3c-46a2-86d5-c3a752589572' class='xr-index-data-in' type='checkbox'/><label for='index-e06db000-6b3c-46a2-86d5-c3a752589572' title='Show/Hide index repr'><svg class='icon xr-icon-database'><use xlink:href='#icon-database'></use></svg></label><div class='xr-index-data'><pre>PandasIndex(Index([                 0.0, 0.010000141898044854, 0.020000810427208183,\n",
       "        0.03000147895637727, 0.040000453605357505,  0.05000112213450611,\n",
       "        0.06000009678348379,  0.07000076531266312,   0.0800014338418527,\n",
       "        0.09000040849087133,\n",
       "       ...\n",
       "         1.0500002198250722,   1.0600000414159787,    1.070000286476928,\n",
       "         1.0800001080678345,   1.0900003531287838,   1.1000001747196904,\n",
       "         1.1100004197806397,    1.119044046014882,   1.1190444694849249,\n",
       "         1.1190448929549677],\n",
       "      dtype=&#x27;float64&#x27;, name=&#x27;time&#x27;, length=116))</pre></div></li><li class='xr-var-item'><div class='xr-index-name'><div>mass</div></div><div class='xr-index-preview'>PandasIndex</div><input type='checkbox' disabled/><label></label><input id='index-aa96eb60-fb76-4dad-9722-af39d8245d70' class='xr-index-data-in' type='checkbox'/><label for='index-aa96eb60-fb76-4dad-9722-af39d8245d70' title='Show/Hide index repr'><svg class='icon xr-icon-database'><use xlink:href='#icon-database'></use></svg></label><div class='xr-index-data'><pre>PandasIndex(Index([              1.34, 1.3405050505050506,  1.341010101010101,\n",
       "       1.3415151515151515, 1.3420202020202021, 1.3425252525252527,\n",
       "        1.343030303030303, 1.3435353535353536, 1.3440404040404041,\n",
       "       1.3445454545454547,  1.345050505050505, 1.3455555555555556,\n",
       "       1.3460606060606062, 1.3465656565656565,  1.347070707070707,\n",
       "       1.3475757575757576, 1.3480808080808082, 1.3485858585858586,\n",
       "       1.3490909090909091, 1.3495959595959597, 1.3501010101010102,\n",
       "       1.3506060606060606, 1.3511111111111112, 1.3516161616161617,\n",
       "        1.352121212121212, 1.3526262626262626, 1.3531313131313132,\n",
       "       1.3536363636363637,  1.354141414141414, 1.3546464646464647,\n",
       "       1.3551515151515152, 1.3556565656565658, 1.3561616161616161,\n",
       "       1.3566666666666667, 1.3571717171717173, 1.3576767676767676,\n",
       "       1.3581818181818182, 1.3586868686868687, 1.3591919191919193,\n",
       "       1.3596969696969696, 1.3602020202020202, 1.3607070707070708,\n",
       "       1.3612121212121213, 1.3617171717171717, 1.3622222222222222,\n",
       "       1.3627272727272728, 1.3632323232323231, 1.3637373737373737,\n",
       "       1.3642424242424243, 1.3647474747474748, 1.3652525252525252,\n",
       "       1.3657575757575757, 1.3662626262626263, 1.3667676767676769,\n",
       "       1.3672727272727272, 1.3677777777777778, 1.3682828282828283,\n",
       "       1.3687878787878787, 1.3692929292929292, 1.3697979797979798,\n",
       "       1.3703030303030304, 1.3708080808080807, 1.3713131313131313,\n",
       "       1.3718181818181818, 1.3723232323232324, 1.3728282828282827,\n",
       "       1.3733333333333333, 1.3738383838383839, 1.3743434343434342,\n",
       "       1.3748484848484848, 1.3753535353535353,  1.375858585858586,\n",
       "       1.3763636363636362, 1.3768686868686868, 1.3773737373737374,\n",
       "        1.377878787878788, 1.3783838383838383, 1.3788888888888888,\n",
       "       1.3793939393939394, 1.3798989898989897, 1.3804040404040403,\n",
       "       1.3809090909090909, 1.3814141414141414, 1.3819191919191918,\n",
       "       1.3824242424242423,  1.382929292929293, 1.3834343434343435,\n",
       "       1.3839393939393938, 1.3844444444444444,  1.384949494949495,\n",
       "       1.3854545454545453, 1.3859595959595958, 1.3864646464646464,\n",
       "        1.386969696969697, 1.3874747474747473, 1.3879797979797979,\n",
       "       1.3884848484848484,  1.388989898989899, 1.3894949494949493,\n",
       "                     1.39],\n",
       "      dtype=&#x27;float64&#x27;, name=&#x27;mass&#x27;))</pre></div></li></ul></div></li><li class='xr-section-item'><input id='section-9441768e-e5b2-473a-bc24-0076f506dc51' class='xr-section-summary-in' type='checkbox' disabled ><label for='section-9441768e-e5b2-473a-bc24-0076f506dc51' class='xr-section-summary'  title='Expand/collapse section'>Attributes: <span>(0)</span></label><div class='xr-section-inline-details'></div><div class='xr-section-details'><dl class='xr-attrs'></dl></div></li></ul></div></div>"
      ],
      "text/plain": [
       "<xarray.Dataset> Size: 1MB\n",
       "Dimensions:  (chk: 116, mass: 100, time: 116)\n",
       "Coordinates:\n",
       "  * chk      (chk) int32 464B 0 1 2 3 4 5 6 7 ... 109 110 111 112 113 114 115\n",
       "  * time     (time) float64 928B 0.0 0.01 0.02 0.03 ... 1.11 1.119 1.119 1.119\n",
       "  * mass     (mass) float64 800B 1.34 1.341 1.341 1.342 ... 1.389 1.389 1.39\n",
       "Data variables: (12/14)\n",
       "    r        (chk, mass) float64 93kB 1.639e+08 1.648e+08 ... 1.119e+09\n",
       "    temp     (chk, mass) float64 93kB 2.42e+09 2.401e+09 ... 1.036e+09 1.036e+09\n",
       "    dens     (chk, mass) float64 93kB 3.624e+06 3.524e+06 ... 1.364e+04\n",
       "    pres     (chk, mass) float64 93kB 5.032e+23 4.85e+23 ... 3.555e+21 3.542e+21\n",
       "    entr     (chk, mass) float64 93kB 2.472 2.477 2.484 ... 13.87 13.93 14.0\n",
       "    velx     (chk, mass) float64 93kB -9.088e+07 -9.094e+07 ... 1.262e+09\n",
       "    ...       ...\n",
       "    ynu      (chk, mass) float64 93kB 1.959e-23 -9.852e-23 ... 0.02255 0.02254\n",
       "    gamc     (chk, mass) float64 93kB 1.393 1.394 1.394 ... 1.318 1.318 1.318\n",
       "    enue     (chk, mass) float64 93kB 6.632 6.632 6.632 ... 10.35 10.34 10.34\n",
       "    enua     (chk, mass) float64 93kB 6.632 6.632 6.632 ... 14.26 14.25 14.25\n",
       "    fnue     (chk, mass) float64 93kB 0.0 0.0 0.0 ... 4.181e-19 4.147e-19\n",
       "    fnua     (chk, mass) float64 93kB 0.0 0.0 0.0 ... 4.376e-19 4.34e-19"
      ]
     },
     "execution_count": 5,
     "metadata": {},
     "output_type": "execute_result"
    }
   ],
   "source": [
    "tracers = fb.load_save.get_tracers(\n",
    "       run = f\"stir2_{run_date}_s{mass}_alpha{alpha}\", \n",
    "       model = f\"run_{mass}\",\n",
    "       model_set = f\"run_{run_date}_a{alpha}\",\n",
    "       config = \"stir\", reload = reload\n",
    ")\n",
    "\n",
    "tracers"
   ]
  },
  {
   "cell_type": "code",
   "execution_count": 6,
   "metadata": {},
   "outputs": [
    {
     "name": "stderr",
     "output_type": "stream",
     "text": [
      "/mnt/ffs24/home/jdelker/_main/projects/osnap/progs/progs/prog_io.py:132: FutureWarning: The 'delim_whitespace' keyword in pd.read_csv is deprecated and will be removed in a future version. Use ``sep='\\s+'`` instead\n",
      "  network = pd.read_csv(filepath, delim_whitespace=True)\n"
     ]
    }
   ],
   "source": [
    "progenitor = progs.ProgModel(mass, \"sukhbold_2016\")"
   ]
  },
  {
   "cell_type": "code",
   "execution_count": null,
   "metadata": {},
   "outputs": [],
   "source": [
    "trajectories = sky.do_nucleosynthesis(\n",
    "    model_path = f\"{base_path}_a{alpha}/run_{mass}\", \n",
    "    stir_model = f\"stir2_{run_date}_s{mass}_alpha{alpha}\", \n",
    "    progenitor = progenitor,\n",
    "    tracers = tracers,\n",
    "    output_path = f\"./nucleosynthesis/{run_date}_a{alpha}_run_{mass}\",\n",
    "    verbose = True\n",
    ")"
   ]
  },
  {
   "cell_type": "code",
   "execution_count": null,
   "metadata": {},
   "outputs": [
    {
     "name": "stderr",
     "output_type": "stream",
     "text": [
      "/tmp/ipykernel_666574/1308360102.py:1: RuntimeWarning: divide by zero encountered in log10\n",
      "  plt.plot(np.log10(trajectories[:, 0]), np.log10(trajectories[:, 1]))\n"
     ]
    },
    {
     "data": {
      "image/png": "[encoded data removed]",
      "text/plain": [
       "<Figure size 640x480 with 1 Axes>"
      ]
     },
     "metadata": {},
     "output_type": "display_data"
    },
    {
     "name": "stderr",
     "output_type": "stream",
     "text": [
      "/tmp/ipykernel_666574/1308360102.py:3: RuntimeWarning: divide by zero encountered in log10\n",
      "  plt.plot(np.log10(trajectories[:, 0]), np.log10(trajectories[:, 2]))\n"
     ]
    },
    {
     "data": {
      "image/png": "[encoded data removed]",
      "text/plain": [
       "<Figure size 640x480 with 1 Axes>"
      ]
     },
     "metadata": {},
     "output_type": "display_data"
    },
    {
     "name": "stderr",
     "output_type": "stream",
     "text": [
      "/tmp/ipykernel_666574/1308360102.py:5: RuntimeWarning: divide by zero encountered in log10\n",
      "  plt.plot(np.log10(trajectories[:, 0]), np.log10(trajectories[:, 3]))\n"
     ]
    },
    {
     "data": {
      "image/png": "[encoded data removed]",
      "text/plain": [
       "<Figure size 640x480 with 1 Axes>"
      ]
     },
     "metadata": {},
     "output_type": "display_data"
    },
    {
     "ename": "",
     "evalue": "",
     "output_type": "error",
     "traceback": [
      "\u001b[1;31mnotebook controller is DISPOSED. \n",
      "\u001b[1;31mView Jupyter <a href='command:jupyter.viewOutput'>log</a> for further details."
     ]
    },
    {
     "ename": "",
     "evalue": "",
     "output_type": "error",
     "traceback": [
      "\u001b[1;31mnotebook controller is DISPOSED. \n",
      "\u001b[1;31mView Jupyter <a href='command:jupyter.viewOutput'>log</a> for further details."
     ]
    },
    {
     "ename": "",
     "evalue": "",
     "output_type": "error",
     "traceback": [
      "\u001b[1;31mnotebook controller is DISPOSED. \n",
      "\u001b[1;31mView Jupyter <a href='command:jupyter.viewOutput'>log</a> for further details."
     ]
    }
   ],
   "source": [
    "plt.plot(np.log10(trajectories[:, 0]), np.log10(trajectories[:, 1]))\n",
    "plt.show()\n",
    "plt.plot(np.log10(trajectories[:, 0]), np.log10(trajectories[:, 2]))\n",
    "plt.show()\n",
    "plt.plot(np.log10(trajectories[:, 0]), np.log10(trajectories[:, 3]))\n",
    "plt.show()"
   ]
  },
  {
   "cell_type": "code",
   "execution_count": null,
   "metadata": {},
   "outputs": [
    {
     "ename": "",
     "evalue": "",
     "output_type": "error",
     "traceback": [
      "\u001b[1;31mnotebook controller is DISPOSED. \n",
      "\u001b[1;31mView Jupyter <a href='command:jupyter.viewOutput'>log</a> for further details."
     ]
    },
    {
     "ename": "",
     "evalue": "",
     "output_type": "error",
     "traceback": [
      "\u001b[1;31mnotebook controller is DISPOSED. \n",
      "\u001b[1;31mView Jupyter <a href='command:jupyter.viewOutput'>log</a> for further details."
     ]
    },
    {
     "ename": "",
     "evalue": "",
     "output_type": "error",
     "traceback": [
      "\u001b[1;31mnotebook controller is DISPOSED. \n",
      "\u001b[1;31mView Jupyter <a href='command:jupyter.viewOutput'>log</a> for further details."
     ]
    }
   ],
   "source": [
    "\n"
   ]
  },
  {
   "cell_type": "code",
   "execution_count": null,
   "metadata": {},
   "outputs": [
    {
     "ename": "NameError",
     "evalue": "name 'output' is not defined",
     "output_type": "error",
     "traceback": [
      "\u001b[31m---------------------------------------------------------------------------\u001b[39m",
      "\u001b[31mNameError\u001b[39m                                 Traceback (most recent call last)",
      "\u001b[36mCell\u001b[39m\u001b[36m \u001b[39m\u001b[32mIn[8]\u001b[39m\u001b[32m, line 2\u001b[39m\n\u001b[32m      1\u001b[39m iso = \u001b[33m\"\u001b[39m\u001b[33mfe54\u001b[39m\u001b[33m\"\u001b[39m\n\u001b[32m----> \u001b[39m\u001b[32m2\u001b[39m plt.plot(\u001b[43moutput\u001b[49m[\u001b[33m\"\u001b[39m\u001b[33mmass\u001b[39m\u001b[33m\"\u001b[39m], output[iso])\n\u001b[32m      3\u001b[39m plt.plot(output[\u001b[33m\"\u001b[39m\u001b[33mmass\u001b[39m\u001b[33m\"\u001b[39m], output[\u001b[33m\"\u001b[39m\u001b[33mneut\u001b[39m\u001b[33m\"\u001b[39m])\n\u001b[32m      4\u001b[39m plt.xlabel(\u001b[33m\"\u001b[39m\u001b[33mMass (M☉)\u001b[39m\u001b[33m\"\u001b[39m)\n",
      "\u001b[31mNameError\u001b[39m: name 'output' is not defined"
     ]
    },
    {
     "ename": "",
     "evalue": "",
     "output_type": "error",
     "traceback": [
      "\u001b[1;31mnotebook controller is DISPOSED. \n",
      "\u001b[1;31mView Jupyter <a href='command:jupyter.viewOutput'>log</a> for further details."
     ]
    },
    {
     "ename": "",
     "evalue": "",
     "output_type": "error",
     "traceback": [
      "\u001b[1;31mnotebook controller is DISPOSED. \n",
      "\u001b[1;31mView Jupyter <a href='command:jupyter.viewOutput'>log</a> for further details."
     ]
    },
    {
     "ename": "",
     "evalue": "",
     "output_type": "error",
     "traceback": [
      "\u001b[1;31mnotebook controller is DISPOSED. \n",
      "\u001b[1;31mView Jupyter <a href='command:jupyter.viewOutput'>log</a> for further details."
     ]
    }
   ],
   "source": [
    "iso = \"fe54\"\n",
    "plt.plot(output[\"mass\"], output[iso])\n",
    "plt.plot(output[\"mass\"], output[\"neut\"])\n",
    "plt.xlabel(\"Mass (M☉)\")\n",
    "plt.ylabel(iso);\n",
    "#print(output.columns.values)"
   ]
  },
  {
   "cell_type": "code",
   "execution_count": null,
   "metadata": {},
   "outputs": [
    {
     "ename": "",
     "evalue": "",
     "output_type": "error",
     "traceback": [
      "\u001b[1;31mnotebook controller is DISPOSED. \n",
      "\u001b[1;31mView Jupyter <a href='command:jupyter.viewOutput'>log</a> for further details."
     ]
    },
    {
     "ename": "",
     "evalue": "",
     "output_type": "error",
     "traceback": [
      "\u001b[1;31mnotebook controller is DISPOSED. \n",
      "\u001b[1;31mView Jupyter <a href='command:jupyter.viewOutput'>log</a> for further details."
     ]
    },
    {
     "ename": "",
     "evalue": "",
     "output_type": "error",
     "traceback": [
      "\u001b[1;31mnotebook controller is DISPOSED. \n",
      "\u001b[1;31mView Jupyter <a href='command:jupyter.viewOutput'>log</a> for further details."
     ]
    },
    {
     "ename": "",
     "evalue": "",
     "output_type": "error",
     "traceback": [
      "\u001b[1;31mnotebook controller is DISPOSED. \n",
      "\u001b[1;31mView Jupyter <a href='command:jupyter.viewOutput'>log</a> for further details."
     ]
    },
    {
     "ename": "",
     "evalue": "",
     "output_type": "error",
     "traceback": [
      "\u001b[1;31mnotebook controller is DISPOSED. \n",
      "\u001b[1;31mView Jupyter <a href='command:jupyter.viewOutput'>log</a> for further details."
     ]
    },
    {
     "ename": "",
     "evalue": "",
     "output_type": "error",
     "traceback": [
      "\u001b[1;31mnotebook controller is DISPOSED. \n",
      "\u001b[1;31mView Jupyter <a href='command:jupyter.viewOutput'>log</a> for further details."
     ]
    },
    {
     "ename": "",
     "evalue": "",
     "output_type": "error",
     "traceback": [
      "\u001b[1;31mnotebook controller is DISPOSED. \n",
      "\u001b[1;31mView Jupyter <a href='command:jupyter.viewOutput'>log</a> for further details."
     ]
    },
    {
     "ename": "",
     "evalue": "",
     "output_type": "error",
     "traceback": [
      "\u001b[1;31mnotebook controller is DISPOSED. \n",
      "\u001b[1;31mView Jupyter <a href='command:jupyter.viewOutput'>log</a> for further details."
     ]
    },
    {
     "ename": "",
     "evalue": "",
     "output_type": "error",
     "traceback": [
      "\u001b[1;31mnotebook controller is DISPOSED. \n",
      "\u001b[1;31mView Jupyter <a href='command:jupyter.viewOutput'>log</a> for further details."
     ]
    },
    {
     "ename": "",
     "evalue": "",
     "output_type": "error",
     "traceback": [
      "\u001b[1;31mnotebook controller is DISPOSED. \n",
      "\u001b[1;31mView Jupyter <a href='command:jupyter.viewOutput'>log</a> for further details."
     ]
    },
    {
     "ename": "",
     "evalue": "",
     "output_type": "error",
     "traceback": [
      "\u001b[1;31mnotebook controller is DISPOSED. \n",
      "\u001b[1;31mView Jupyter <a href='command:jupyter.viewOutput'>log</a> for further details."
     ]
    }
   ],
   "source": [
    "output.columns[np.argmax(output.iloc[40, 1:].values) + 1]"
   ]
  },
  {
   "cell_type": "code",
   "execution_count": null,
   "metadata": {},
   "outputs": [
    {
     "ename": "",
     "evalue": "",
     "output_type": "error",
     "traceback": [
      "\u001b[1;31mnotebook controller is DISPOSED. \n",
      "\u001b[1;31mView Jupyter <a href='command:jupyter.viewOutput'>log</a> for further details."
     ]
    },
    {
     "ename": "",
     "evalue": "",
     "output_type": "error",
     "traceback": [
      "\u001b[1;31mnotebook controller is DISPOSED. \n",
      "\u001b[1;31mView Jupyter <a href='command:jupyter.viewOutput'>log</a> for further details."
     ]
    },
    {
     "ename": "",
     "evalue": "",
     "output_type": "error",
     "traceback": [
      "\u001b[1;31mnotebook controller is DISPOSED. \n",
      "\u001b[1;31mView Jupyter <a href='command:jupyter.viewOutput'>log</a> for further details."
     ]
    },
    {
     "ename": "",
     "evalue": "",
     "output_type": "error",
     "traceback": [
      "\u001b[1;31mnotebook controller is DISPOSED. \n",
      "\u001b[1;31mView Jupyter <a href='command:jupyter.viewOutput'>log</a> for further details."
     ]
    },
    {
     "ename": "",
     "evalue": "",
     "output_type": "error",
     "traceback": [
      "\u001b[1;31mnotebook controller is DISPOSED. \n",
      "\u001b[1;31mView Jupyter <a href='command:jupyter.viewOutput'>log</a> for further details."
     ]
    },
    {
     "ename": "",
     "evalue": "",
     "output_type": "error",
     "traceback": [
      "\u001b[1;31mnotebook controller is DISPOSED. \n",
      "\u001b[1;31mView Jupyter <a href='command:jupyter.viewOutput'>log</a> for further details."
     ]
    },
    {
     "ename": "",
     "evalue": "",
     "output_type": "error",
     "traceback": [
      "\u001b[1;31mnotebook controller is DISPOSED. \n",
      "\u001b[1;31mView Jupyter <a href='command:jupyter.viewOutput'>log</a> for further details."
     ]
    },
    {
     "ename": "",
     "evalue": "",
     "output_type": "error",
     "traceback": [
      "\u001b[1;31mnotebook controller is DISPOSED. \n",
      "\u001b[1;31mView Jupyter <a href='command:jupyter.viewOutput'>log</a> for further details."
     ]
    },
    {
     "ename": "",
     "evalue": "",
     "output_type": "error",
     "traceback": [
      "\u001b[1;31mnotebook controller is DISPOSED. \n",
      "\u001b[1;31mView Jupyter <a href='command:jupyter.viewOutput'>log</a> for further details."
     ]
    },
    {
     "ename": "",
     "evalue": "",
     "output_type": "error",
     "traceback": [
      "\u001b[1;31mnotebook controller is DISPOSED. \n",
      "\u001b[1;31mView Jupyter <a href='command:jupyter.viewOutput'>log</a> for further details."
     ]
    },
    {
     "ename": "",
     "evalue": "",
     "output_type": "error",
     "traceback": [
      "\u001b[1;31mnotebook controller is DISPOSED. \n",
      "\u001b[1;31mView Jupyter <a href='command:jupyter.viewOutput'>log</a> for further details."
     ]
    }
   ],
   "source": [
    "#for chk in range(len(profile.coords[\"chk\"])):\n",
    "#plt.plot(profile.coords[\"time\"], profile[\"mass\"][-1, :], label = \"mass\");\n",
    "#plt.plot(profile.coords[\"zone\"], np.log10(profile[\"dens\"][-1, :]) - 11, label = \"dens\");\n",
    "#    break\n",
    "#plt.legend();\n",
    "#for mass in range(len(tracers.coords[\"mass\"])):\n",
    "#    plt.plot(tracers.coords[\"time\"], tracers[\"r\"][:, mass], label = tracers.coords[\"mass\"].values[[mass]]);\n",
    "#plt.legend();"
   ]
  },
  {
   "cell_type": "code",
   "execution_count": null,
   "metadata": {},
   "outputs": [
    {
     "ename": "",
     "evalue": "",
     "output_type": "error",
     "traceback": [
      "\u001b[1;31mnotebook controller is DISPOSED. \n",
      "\u001b[1;31mView Jupyter <a href='command:jupyter.viewOutput'>log</a> for further details."
     ]
    },
    {
     "ename": "",
     "evalue": "",
     "output_type": "error",
     "traceback": [
      "\u001b[1;31mnotebook controller is DISPOSED. \n",
      "\u001b[1;31mView Jupyter <a href='command:jupyter.viewOutput'>log</a> for further details."
     ]
    },
    {
     "ename": "",
     "evalue": "",
     "output_type": "error",
     "traceback": [
      "\u001b[1;31mnotebook controller is DISPOSED. \n",
      "\u001b[1;31mView Jupyter <a href='command:jupyter.viewOutput'>log</a> for further details."
     ]
    },
    {
     "ename": "",
     "evalue": "",
     "output_type": "error",
     "traceback": [
      "\u001b[1;31mnotebook controller is DISPOSED. \n",
      "\u001b[1;31mView Jupyter <a href='command:jupyter.viewOutput'>log</a> for further details."
     ]
    },
    {
     "ename": "",
     "evalue": "",
     "output_type": "error",
     "traceback": [
      "\u001b[1;31mnotebook controller is DISPOSED. \n",
      "\u001b[1;31mView Jupyter <a href='command:jupyter.viewOutput'>log</a> for further details."
     ]
    },
    {
     "ename": "",
     "evalue": "",
     "output_type": "error",
     "traceback": [
      "\u001b[1;31mnotebook controller is DISPOSED. \n",
      "\u001b[1;31mView Jupyter <a href='command:jupyter.viewOutput'>log</a> for further details."
     ]
    },
    {
     "ename": "",
     "evalue": "",
     "output_type": "error",
     "traceback": [
      "\u001b[1;31mnotebook controller is DISPOSED. \n",
      "\u001b[1;31mView Jupyter <a href='command:jupyter.viewOutput'>log</a> for further details."
     ]
    },
    {
     "ename": "",
     "evalue": "",
     "output_type": "error",
     "traceback": [
      "\u001b[1;31mnotebook controller is DISPOSED. \n",
      "\u001b[1;31mView Jupyter <a href='command:jupyter.viewOutput'>log</a> for further details."
     ]
    },
    {
     "ename": "",
     "evalue": "",
     "output_type": "error",
     "traceback": [
      "\u001b[1;31mnotebook controller is DISPOSED. \n",
      "\u001b[1;31mView Jupyter <a href='command:jupyter.viewOutput'>log</a> for further details."
     ]
    },
    {
     "ename": "",
     "evalue": "",
     "output_type": "error",
     "traceback": [
      "\u001b[1;31mnotebook controller is DISPOSED. \n",
      "\u001b[1;31mView Jupyter <a href='command:jupyter.viewOutput'>log</a> for further details."
     ]
    },
    {
     "ename": "",
     "evalue": "",
     "output_type": "error",
     "traceback": [
      "\u001b[1;31mnotebook controller is DISPOSED. \n",
      "\u001b[1;31mView Jupyter <a href='command:jupyter.viewOutput'>log</a> for further details."
     ]
    }
   ],
   "source": []
  },
  {
   "cell_type": "code",
   "execution_count": null,
   "metadata": {},
   "outputs": [
    {
     "ename": "",
     "evalue": "",
     "output_type": "error",
     "traceback": [
      "\u001b[1;31mnotebook controller is DISPOSED. \n",
      "\u001b[1;31mView Jupyter <a href='command:jupyter.viewOutput'>log</a> for further details."
     ]
    },
    {
     "ename": "",
     "evalue": "",
     "output_type": "error",
     "traceback": [
      "\u001b[1;31mnotebook controller is DISPOSED. \n",
      "\u001b[1;31mView Jupyter <a href='command:jupyter.viewOutput'>log</a> for further details."
     ]
    },
    {
     "ename": "",
     "evalue": "",
     "output_type": "error",
     "traceback": [
      "\u001b[1;31mnotebook controller is DISPOSED. \n",
      "\u001b[1;31mView Jupyter <a href='command:jupyter.viewOutput'>log</a> for further details."
     ]
    },
    {
     "ename": "",
     "evalue": "",
     "output_type": "error",
     "traceback": [
      "\u001b[1;31mnotebook controller is DISPOSED. \n",
      "\u001b[1;31mView Jupyter <a href='command:jupyter.viewOutput'>log</a> for further details."
     ]
    },
    {
     "ename": "",
     "evalue": "",
     "output_type": "error",
     "traceback": [
      "\u001b[1;31mnotebook controller is DISPOSED. \n",
      "\u001b[1;31mView Jupyter <a href='command:jupyter.viewOutput'>log</a> for further details."
     ]
    },
    {
     "ename": "",
     "evalue": "",
     "output_type": "error",
     "traceback": [
      "\u001b[1;31mnotebook controller is DISPOSED. \n",
      "\u001b[1;31mView Jupyter <a href='command:jupyter.viewOutput'>log</a> for further details."
     ]
    },
    {
     "ename": "",
     "evalue": "",
     "output_type": "error",
     "traceback": [
      "\u001b[1;31mnotebook controller is DISPOSED. \n",
      "\u001b[1;31mView Jupyter <a href='command:jupyter.viewOutput'>log</a> for further details."
     ]
    },
    {
     "ename": "",
     "evalue": "",
     "output_type": "error",
     "traceback": [
      "\u001b[1;31mnotebook controller is DISPOSED. \n",
      "\u001b[1;31mView Jupyter <a href='command:jupyter.viewOutput'>log</a> for further details."
     ]
    },
    {
     "ename": "",
     "evalue": "",
     "output_type": "error",
     "traceback": [
      "\u001b[1;31mnotebook controller is DISPOSED. \n",
      "\u001b[1;31mView Jupyter <a href='command:jupyter.viewOutput'>log</a> for further details."
     ]
    },
    {
     "ename": "",
     "evalue": "",
     "output_type": "error",
     "traceback": [
      "\u001b[1;31mnotebook controller is DISPOSED. \n",
      "\u001b[1;31mView Jupyter <a href='command:jupyter.viewOutput'>log</a> for further details."
     ]
    },
    {
     "ename": "",
     "evalue": "",
     "output_type": "error",
     "traceback": [
      "\u001b[1;31mnotebook controller is DISPOSED. \n",
      "\u001b[1;31mView Jupyter <a href='command:jupyter.viewOutput'>log</a> for further details."
     ]
    }
   ],
   "source": []
  },
  {
   "cell_type": "code",
   "execution_count": null,
   "metadata": {},
   "outputs": [],
   "source": []
  }
 ],
 "metadata": {
  "kernelspec": {
   "display_name": "osnap",
   "language": "python",
   "name": "python3"
  },
  "language_info": {
   "codemirror_mode": {
    "name": "ipython",
    "version": 3
   },
   "file_extension": ".py",
   "mimetype": "text/x-python",
   "name": "python",
   "nbconvert_exporter": "python",
   "pygments_lexer": "ipython3",
   "version": "3.10.12"
  }
 },
 "nbformat": 4,
 "nbformat_minor": 2
}
